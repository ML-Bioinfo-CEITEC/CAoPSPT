{
 "cells": [
  {
   "cell_type": "markdown",
   "id": "9f241c6f-ee57-4744-bedb-2bef1d8328f0",
   "metadata": {},
   "source": [
    "# AlphaFold - preparation of files for prediction"
   ]
  },
  {
   "cell_type": "code",
   "execution_count": 1,
   "id": "0a08b347-5df7-4c69-a979-db6b3f7f5161",
   "metadata": {},
   "outputs": [],
   "source": [
    "import pandas as pd\n",
    "import os, shutil\n",
    "from typing import List"
   ]
  },
  {
   "cell_type": "markdown",
   "id": "07636295-ec7f-4102-967d-7e6eb413fd43",
   "metadata": {},
   "source": [
    "## Load `chains` dataframe from .csv files"
   ]
  },
  {
   "cell_type": "code",
   "execution_count": 2,
   "id": "28f51fb2-a45a-4e26-b50e-770a2f78b58e",
   "metadata": {},
   "outputs": [
    {
     "data": {
      "text/html": [
       "<div>\n",
       "<style scoped>\n",
       "    .dataframe tbody tr th:only-of-type {\n",
       "        vertical-align: middle;\n",
       "    }\n",
       "\n",
       "    .dataframe tbody tr th {\n",
       "        vertical-align: top;\n",
       "    }\n",
       "\n",
       "    .dataframe thead th {\n",
       "        text-align: right;\n",
       "    }\n",
       "</style>\n",
       "<table border=\"1\" class=\"dataframe\">\n",
       "  <thead>\n",
       "    <tr style=\"text-align: right;\">\n",
       "      <th></th>\n",
       "      <th>pdb_id</th>\n",
       "      <th>label</th>\n",
       "      <th>chain_id</th>\n",
       "    </tr>\n",
       "  </thead>\n",
       "  <tbody>\n",
       "    <tr>\n",
       "      <th>0</th>\n",
       "      <td>8P0E</td>\n",
       "      <td>monomer</td>\n",
       "      <td>8P0E:A</td>\n",
       "    </tr>\n",
       "    <tr>\n",
       "      <th>1</th>\n",
       "      <td>8PX8</td>\n",
       "      <td>monomer</td>\n",
       "      <td>8PX8:A</td>\n",
       "    </tr>\n",
       "    <tr>\n",
       "      <th>2</th>\n",
       "      <td>8B2E</td>\n",
       "      <td>monomer</td>\n",
       "      <td>8B2E:A</td>\n",
       "    </tr>\n",
       "    <tr>\n",
       "      <th>3</th>\n",
       "      <td>8HOE</td>\n",
       "      <td>monomer</td>\n",
       "      <td>8HOE:A</td>\n",
       "    </tr>\n",
       "    <tr>\n",
       "      <th>4</th>\n",
       "      <td>8TCE</td>\n",
       "      <td>monomer</td>\n",
       "      <td>8TCE:A</td>\n",
       "    </tr>\n",
       "    <tr>\n",
       "      <th>...</th>\n",
       "      <td>...</td>\n",
       "      <td>...</td>\n",
       "      <td>...</td>\n",
       "    </tr>\n",
       "    <tr>\n",
       "      <th>1458</th>\n",
       "      <td>8G9J</td>\n",
       "      <td>synthetic</td>\n",
       "      <td>8G9J:A</td>\n",
       "    </tr>\n",
       "    <tr>\n",
       "      <th>1459</th>\n",
       "      <td>8OYV</td>\n",
       "      <td>synthetic</td>\n",
       "      <td>8OYV:A</td>\n",
       "    </tr>\n",
       "    <tr>\n",
       "      <th>1460</th>\n",
       "      <td>8TNO</td>\n",
       "      <td>synthetic</td>\n",
       "      <td>8TNO:A</td>\n",
       "    </tr>\n",
       "    <tr>\n",
       "      <th>1461</th>\n",
       "      <td>8FJE</td>\n",
       "      <td>synthetic</td>\n",
       "      <td>8FJE:A</td>\n",
       "    </tr>\n",
       "    <tr>\n",
       "      <th>1462</th>\n",
       "      <td>8F4X</td>\n",
       "      <td>synthetic</td>\n",
       "      <td>8F4X:1</td>\n",
       "    </tr>\n",
       "  </tbody>\n",
       "</table>\n",
       "<p>1463 rows × 3 columns</p>\n",
       "</div>"
      ],
      "text/plain": [
       "     pdb_id      label chain_id\n",
       "0      8P0E    monomer   8P0E:A\n",
       "1      8PX8    monomer   8PX8:A\n",
       "2      8B2E    monomer   8B2E:A\n",
       "3      8HOE    monomer   8HOE:A\n",
       "4      8TCE    monomer   8TCE:A\n",
       "...     ...        ...      ...\n",
       "1458   8G9J  synthetic   8G9J:A\n",
       "1459   8OYV  synthetic   8OYV:A\n",
       "1460   8TNO  synthetic   8TNO:A\n",
       "1461   8FJE  synthetic   8FJE:A\n",
       "1462   8F4X  synthetic   8F4X:1\n",
       "\n",
       "[1463 rows x 3 columns]"
      ]
     },
     "execution_count": 2,
     "metadata": {},
     "output_type": "execute_result"
    }
   ],
   "source": [
    "PROTEIN_DIRECTORY = \"data/proteins\"\n",
    "\n",
    "chains = pd.read_csv(\"data/chains.csv\")\n",
    "chains"
   ]
  },
  {
   "cell_type": "markdown",
   "id": "bcf85c5d-e053-4c05-b053-6f93d91421e9",
   "metadata": {},
   "source": [
    "## Divide fasta files into 30 batches containing approximately 50 files\n"
   ]
  },
  {
   "cell_type": "code",
   "execution_count": 3,
   "id": "32c91a1b-862c-4359-9358-964377c1b1a2",
   "metadata": {},
   "outputs": [
    {
     "data": {
      "text/plain": [
       "'/home/jovyan/data/alphafold_batches.zip'"
      ]
     },
     "execution_count": 3,
     "metadata": {},
     "output_type": "execute_result"
    }
   ],
   "source": [
    "def prepare_batch_directories(number_of_batches: int, data_directory: str) -> List[str]:\n",
    "    batch_directories = []\n",
    "    for i in range(1, number_of_batches + 1):\n",
    "        if i <= 9:\n",
    "            batch_name = f\"{data_directory}/batch_0{i}\"\n",
    "        else:\n",
    "            batch_name = f\"{data_directory}/batch_{i}\"\n",
    "        if not os.path.exists(batch_name):\n",
    "            os.makedirs(batch_name)\n",
    "        batch_directories.append(batch_name)\n",
    "    return batch_directories\n",
    "\n",
    "batch_directories = prepare_batch_directories(30, \"data/alphafold_batches\") \n",
    "chains.apply(\n",
    "    lambda row: shutil.copy(f\"{PROTEIN_DIRECTORY}/{row['pdb_id']}/{row['chain_id']}.fasta\",\n",
    "                            batch_directories[row.name // 50]),\n",
    "    axis = 1\n",
    ")\n",
    "\n",
    "shutil.make_archive(\"data/alphafold_batches\", format = \"zip\", root_dir = \"data/alphafold_batches\")"
   ]
  },
  {
   "cell_type": "markdown",
   "id": "0a731afd-93d5-4917-b8fc-6dec5a7a1244",
   "metadata": {},
   "source": [
    "## Obtain a directory containing only the pdb files of relaxed best models\n",
    "(ran on Metacentrun using OnDemand)"
   ]
  },
  {
   "cell_type": "code",
   "execution_count": 4,
   "id": "b9ffb32b-99ba-4e3d-9269-feacdbe97480",
   "metadata": {},
   "outputs": [
    {
     "data": {
      "text/plain": [
       "'/home/jovyan/data/alphafold_batches_again.zip'"
      ]
     },
     "execution_count": 4,
     "metadata": {},
     "output_type": "execute_result"
    }
   ],
   "source": [
    "PROTEIN_DIRECTORY = \"data/proteins\"\n",
    "failed_chain_ids = {'8YHK:A', '8ILY:A', '8HHG:L', '8AJP:A', '8HDU:A', '8BDL:B', '8IYS:G', '8X6R:A', '8UEK:A', '8H5V:A', '9F0G:A', '8BM3:A', '8ATK:A', '8JU8:A', '8HP7:A', '8R8O:A', '8Q27:A', '8TE7:C', '8PEC:A', '7YV0:A', '8QNT:A', '8T1N:A', '8HS7:A', '8GOP:B', '8HHG:Q', '8B45:A', '8I29:A', '8R74:A', '8BAX:A', '8AW9:A', '8JK2:A', '9FX5:A', '8HHG:B', '8CRL:A', '8OQH:A', '8GHX:A', '8QAE:A', '8BXR:A', '8WTH:A', '8X23:A', '8FIP:A', '8HUX:A', '8TDQ:A', '8ZWV:A', '8HOD:A', '8YHI:A', '8BBK:G', '8Q52:A', '8Y7R:A', '8SJI:A', '8BP6:A', '8OKV:A', '8JWS:A', '8VEJ:A', '8T3H:A', '8UGC:A', '8V34:A', '8U0X:A', '8AJ2:A', '8PQG:A', '8IMR:A', '8QZN:A', '8P3C:B', '8GLD:A', '7YVY:A', '8COI:A', '8E1W:A', '8EY0:A', '8DVZ:A', '8PJZ:A', '8E1Z:A', '8IRQ:A', '8ROM:A', '8H61:B', '8EOV:A', '8EM5:A', '8UM2:A', '8B92:A', '8BL9:A', '8PUI:A', '8T3N:A', '8IYC:A', '8B1X:A', '8TFZ:A', '8F43:A', '8BP1:A', '8TFA:A', '8VZR:A', '8CIH:A', '8QAC:B', '8OJR:A', '8RHR:A', '8T8N:A', '8EOZ:B', '8Q2J:A', '8UAO:A', '8QOH:A', '8IDB:C', '8QAB:A', '8EVM:A', '8UZL:A', '8QQO:A', '8E1C:A', '8EHJ:A', '8QAF:A', '8E0L:A', '8TQ0:A', '8VC8:A', '8HW5:A', '8PXW:A', '9EN2:C', '8GJY:A', '8T55:A', '8GDU:A', '9FWC:A', '8PRJ:A', '8RP3:A', '8GAQ:A', '8BQB:A', '9BGP:A', '8OYX:A', '8BAD:A', '8BHG:A', '8K8F:A', '8BCS:A', '8JCR:A', '7YL8:A', '8B16:A', '8TFQ:B', '8VCW:A', '8EW5:A', '8CJV:A', '8SNI:A', '8VE7:A', '8R8N:A', '8YA5:A', '8SKX:A', '8EZ6:A', '8DTE:A', '8UJW:A', '8H92:A', '8ERW:A', '8GBD:A', '8BXA:A', '8VSW:A', '8CM3:A', '8BBI:A', '8BDL:C', '8H78:A', '8OS2:A', '8R6T:A', '8JBY:A', '8IDC:A', '8SQV:A', '8IJZ:A', '8H7E:A', '8IYS:A', '8FKM:A', '8GM3:A', '8OU2:A', '8Y33:A', '8QN7:A', '8SKD:A', '8WBP:A', '8Q92:A', '8C47:A', '8COH:A', '8FTX:A', '8CC1:H', '8E4F:A', '8FBJ:A', '8FRF:A', '8FQW:A', '8EPV:A', '8GAA:A', '8BTI:A', '8X5J:A', '8R5U:A', '8XOI:R', '8SKE:A', '8DY4:A', '8FHA:A', '8HQR:A', '8TKB:A', '8XQK:A', '8G9K:A', '8ZJB:A', '8QX0:A', '8V8O:A', '8F6Q:A', '8SXM:A', '8HIV:A', '8BPQ:A', '8E5I:A', '7YKM:A', '8U31:C', '8V9U:A', '8ZAV:A', '8CE7:A', '8ILZ:A', '8BL6:A', '8V1P:A', '8XAB:A', '8PAK:A', '8BFE:A', '9EN2:A', '8HXN:A', '8X17:A', '8ED3:1', '8FBO:A', '8HNJ:A', '8E55:A', '7H9J:A', '8JNN:A', '8JZA:A', '8XU5:A', '8CEY:A', '8IA6:A', '8IBJ:A', '8BW4:A', '8F8N:A', '8OS0:A', '9C89:A', '8FUX:A', '8SF9:D', '8QTQ:A', '8AXW:A', '8T28:A', '8T5F:A', '8FHC:A', '8BRO:A', '8FJG:A', '8B9O:A', '8FH2:A', '8SVQ:A', '8FIT:A', '8FBN:A', '8BO9:A', '8H5P:A', '8JGA:A', '8BFS:A', '8RU5:A', '8VD3:A', '8FBK:A', '8YXK:A', '8QH1:E', '8PXH:A', '8SV2:A', '9FSE:A', '8K7Z:A', '8XOI:E', '7YLO:A', '8SHM:A', '8U8F:B', '8B92:C', '8SD5:A', '8JQU:A', '8CIE:A', '8JOT:A', '8B2M:A', '8IF7:A', '8PUA:A', '8FJF:A', '8WJY:A', '8UTK:A', '8VZ9:C', '8TND:A', '8KG3:A', '8K83:A', '7YV4:A', '8QAA:A', '8K84:A', '8E11:A', '8U00:A', '8K7M:A', '8OVI:A', '9CJA:A', '8IDB:A', '8V8P:A', '8WN8:B', '8JNT:A', '8IYS:B', '8K8I:A', '8F2F:A', '8ETQ:A', '9IJP:B', '8KB6:A', '8R3F:A', '8HFH:A', '8FSI:A', '8QHH:A', '8F54:1', '8G1N:A', '8J5B:B', '7YM7:A', '8QAI:A', '9AZI:A', '8R9U:A', '8BVL:A', '8CKN:A', '8BTX:A', '8IY4:A', '8GXN:B', '8RXF:A', '9CJ0:A'}\n",
    "\n",
    "def prepare_batch_directories(number_of_batches, data_directory):\n",
    "    batch_directories = []\n",
    "    for i in range(1, number_of_batches + 1):\n",
    "        if i <= 9:\n",
    "            batch_name = f\"{data_directory}/batch_0{i}\"\n",
    "        else:\n",
    "            batch_name = f\"{data_directory}/batch_{i}\"\n",
    "        if not os.path.exists(batch_name):\n",
    "            os.makedirs(batch_name)\n",
    "        batch_directories.append(batch_name)\n",
    "    return batch_directories\n",
    "\n",
    "batch_directories = prepare_batch_directories(7, \"data/alphafold_batches_again\") \n",
    "\n",
    "for i, chain_id in enumerate(failed_chain_ids):\n",
    "    shutil.copy(f\"{PROTEIN_DIRECTORY}/{chain_id.split(':')[0]}/{chain_id}.fasta\", batch_directories[i // 44]),\n",
    "\n",
    "shutil.make_archive(\"data/alphafold_batches_again\", format = \"zip\", root_dir = \"data/alphafold_batches_again\")"
   ]
  },
  {
   "cell_type": "raw",
   "id": "e2aca640-65e3-4bf9-969f-1c39df06c72c",
   "metadata": {},
   "source": [
    "import os, shutil\n",
    "\n",
    "directory = \"/storage/brno2/home/annaa/outputs\"\n",
    "\n",
    "pdb_files = []\n",
    "\n",
    "for batch_directory in os.scandir(directory):\n",
    "    for f in os.scandir(batch_directory.path):\n",
    "        if f.is_dir():\n",
    "            pdb_structure_path = f\"{f.path}/ranked_0.pdb\"\n",
    "            if os.path.isfile(pdb_structure_path):\n",
    "                pdb_files.append((f.name, pdb_structure_path))\n",
    "\n",
    "\n",
    "len(pdb_files)"
   ]
  },
  {
   "cell_type": "raw",
   "id": "452ab067-d793-438c-a145-c4a4649c10b4",
   "metadata": {},
   "source": [
    "new_directory = \"/storage/brno2/home/annaa/outputs/pdb_files\"\n",
    "if not os.path.exists(new_directory):\n",
    "    os.makedirs(new_directory)\n",
    "\n",
    "for name, path in pdb_files:\n",
    "    shutil.copy(path, new_directory)\n",
    "    os.rename(f\"{new_directory}/ranked_0.pdb\", f\"{new_directory}/{name}.pdb\")"
   ]
  },
  {
   "cell_type": "markdown",
   "id": "3dbd4046-e759-4e65-9eaa-42156295bb4b",
   "metadata": {},
   "source": [
    "## Add paths to the `chains` dataframe and save it as a .csv file"
   ]
  },
  {
   "cell_type": "code",
   "execution_count": 5,
   "id": "3bd2f81c-1ad1-4f71-8f6e-43b7752e539a",
   "metadata": {},
   "outputs": [],
   "source": [
    "ALPHAFOLD_PREDICTIONS_DIRECTORY = \"data/alphafold_predictions\"\n",
    "shutil.unpack_archive(\"data/pdb_files.zip\", ALPHAFOLD_PREDICTIONS_DIRECTORY, \"zip\")"
   ]
  },
  {
   "cell_type": "code",
   "execution_count": 6,
   "id": "02ce4614-9967-4cd6-a7ff-6215feccd4de",
   "metadata": {},
   "outputs": [],
   "source": [
    "def move_file(source, protein_directory):\n",
    "    if not os.path.exists(source) or not os.path.exists(protein_directory):\n",
    "        return None\n",
    "    destination = f\"{protein_directory}/alphafold\"\n",
    "    if not os.path.exists(destination):\n",
    "        os.makedirs(destination)\n",
    "    return shutil.move(source, destination)\n",
    "\n",
    "\n",
    "chains[\"AF_prediction_path\"] = chains.apply(\n",
    "    lambda row: move_file(\n",
    "        f\"{ALPHAFOLD_PREDICTIONS_DIRECTORY}/{row['chain_id']}.pdb\",\n",
    "        f\"{PROTEIN_DIRECTORY}/{row['pdb_id']}\"\n",
    "    ),\n",
    "    axis = 1\n",
    ")"
   ]
  },
  {
   "cell_type": "markdown",
   "id": "7951bb48-c5c8-444a-9900-31a7595bba70",
   "metadata": {},
   "source": [
    "Number of proteins for which the prediction failed:"
   ]
  },
  {
   "cell_type": "code",
   "execution_count": 7,
   "id": "937200c0-ab8c-49f6-99bb-d033fb03901e",
   "metadata": {},
   "outputs": [
    {
     "data": {
      "text/plain": [
       "1"
      ]
     },
     "execution_count": 7,
     "metadata": {},
     "output_type": "execute_result"
    }
   ],
   "source": [
    "chains[\"AF_prediction_path\"].isna().sum()"
   ]
  },
  {
   "cell_type": "code",
   "execution_count": 8,
   "id": "d6c2624c-b9b7-4f52-8f95-bb101220f17c",
   "metadata": {},
   "outputs": [],
   "source": [
    "chains.to_csv(\"proteins/chains_alphafold.csv\", sep = \",\", index = False)"
   ]
  }
 ],
 "metadata": {
  "kernelspec": {
   "display_name": "Python [conda env:alphafold]",
   "language": "python",
   "name": "conda-env-alphafold-py"
  },
  "language_info": {
   "codemirror_mode": {
    "name": "ipython",
    "version": 3
   },
   "file_extension": ".py",
   "mimetype": "text/x-python",
   "name": "python",
   "nbconvert_exporter": "python",
   "pygments_lexer": "ipython3",
   "version": "3.11.0"
  }
 },
 "nbformat": 4,
 "nbformat_minor": 5
}
