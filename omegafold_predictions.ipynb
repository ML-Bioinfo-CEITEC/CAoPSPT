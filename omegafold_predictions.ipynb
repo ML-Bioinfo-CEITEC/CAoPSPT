{
 "cells": [
  {
   "cell_type": "markdown",
   "id": "eb1c49b8-652b-4863-b4cd-d410d705f35f",
   "metadata": {},
   "source": [
    "# OmegaFold structure prediction"
   ]
  },
  {
   "cell_type": "markdown",
   "id": "2431f45b-8412-47f2-ac82-b6b7cf5a0315",
   "metadata": {},
   "source": [
    "Installation of necessary software:"
   ]
  },
  {
   "cell_type": "code",
   "execution_count": 1,
   "id": "009261ac-e0cc-4d97-909a-7d2f0ea4ee97",
   "metadata": {},
   "outputs": [],
   "source": [
    "from IPython.utils import io"
   ]
  },
  {
   "cell_type": "code",
   "execution_count": 2,
   "id": "0b3aaf35-7d72-4f3d-8db4-f75497445258",
   "metadata": {},
   "outputs": [
    {
     "name": "stdout",
     "output_type": "stream",
     "text": [
      "Installation successful\n"
     ]
    }
   ],
   "source": [
    "with io.capture_output() as captured:\n",
    "    !pip install -q torch\n",
    "    !conda install -y requests\n",
    "    !conda install -y biopython=1.79\n",
    "    !conda install -y pandas\n",
    "    !pip install -q git+https://github.com/jvkersch/tmtools.git\n",
    "    !conda install -y Prody\n",
    "    !git clone --branch beta --quiet https://github.com/sokrypton/OmegaFold.git\n",
    "    !pip -q install py3Dmol\n",
    "    !apt-get install aria2 -qq > /dev/null\n",
    "    !aria2c -q -x 16 https://helixon.s3.amazonaws.com/release1.pt\n",
    "    !mkdir -p ~/.cache/omegafold_ckpt\n",
    "    !mv release1.pt ~/.cache/omegafold_ckpt/model.pt\n",
    "\n",
    "print(captured.stdout if (\"Error\" in captured.stdout) or (\"ERROR\" in captured.stdout) else \"Installation successful\")"
   ]
  },
  {
   "cell_type": "code",
   "execution_count": 3,
   "id": "7f248ead-245f-4d33-8c66-11e2d7b382ce",
   "metadata": {},
   "outputs": [],
   "source": [
    "import pandas as pd\n",
    "import os, sys, re, torch, requests, json, Bio"
   ]
  },
  {
   "cell_type": "markdown",
   "id": "d89ca740-b83a-4a10-91e5-7d5184bf399d",
   "metadata": {},
   "source": [
    "## Load `chains` dataframe from .csv file"
   ]
  },
  {
   "cell_type": "code",
   "execution_count": 4,
   "id": "1dcd95cc-8f17-45cf-9848-974f282cf22f",
   "metadata": {},
   "outputs": [
    {
     "data": {
      "text/html": [
       "<div>\n",
       "<style scoped>\n",
       "    .dataframe tbody tr th:only-of-type {\n",
       "        vertical-align: middle;\n",
       "    }\n",
       "\n",
       "    .dataframe tbody tr th {\n",
       "        vertical-align: top;\n",
       "    }\n",
       "\n",
       "    .dataframe thead th {\n",
       "        text-align: right;\n",
       "    }\n",
       "</style>\n",
       "<table border=\"1\" class=\"dataframe\">\n",
       "  <thead>\n",
       "    <tr style=\"text-align: right;\">\n",
       "      <th></th>\n",
       "      <th>pdb_id</th>\n",
       "      <th>label</th>\n",
       "      <th>chain_id</th>\n",
       "    </tr>\n",
       "  </thead>\n",
       "  <tbody>\n",
       "    <tr>\n",
       "      <th>0</th>\n",
       "      <td>8P0E</td>\n",
       "      <td>monomer</td>\n",
       "      <td>8P0E:A</td>\n",
       "    </tr>\n",
       "    <tr>\n",
       "      <th>1</th>\n",
       "      <td>8PX8</td>\n",
       "      <td>monomer</td>\n",
       "      <td>8PX8:A</td>\n",
       "    </tr>\n",
       "    <tr>\n",
       "      <th>2</th>\n",
       "      <td>8B2E</td>\n",
       "      <td>monomer</td>\n",
       "      <td>8B2E:A</td>\n",
       "    </tr>\n",
       "    <tr>\n",
       "      <th>3</th>\n",
       "      <td>8HOE</td>\n",
       "      <td>monomer</td>\n",
       "      <td>8HOE:A</td>\n",
       "    </tr>\n",
       "    <tr>\n",
       "      <th>4</th>\n",
       "      <td>8TCE</td>\n",
       "      <td>monomer</td>\n",
       "      <td>8TCE:A</td>\n",
       "    </tr>\n",
       "    <tr>\n",
       "      <th>...</th>\n",
       "      <td>...</td>\n",
       "      <td>...</td>\n",
       "      <td>...</td>\n",
       "    </tr>\n",
       "    <tr>\n",
       "      <th>1460</th>\n",
       "      <td>8G9J</td>\n",
       "      <td>synthetic</td>\n",
       "      <td>8G9J:A</td>\n",
       "    </tr>\n",
       "    <tr>\n",
       "      <th>1461</th>\n",
       "      <td>8OYV</td>\n",
       "      <td>synthetic</td>\n",
       "      <td>8OYV:A</td>\n",
       "    </tr>\n",
       "    <tr>\n",
       "      <th>1462</th>\n",
       "      <td>8TNO</td>\n",
       "      <td>synthetic</td>\n",
       "      <td>8TNO:A</td>\n",
       "    </tr>\n",
       "    <tr>\n",
       "      <th>1463</th>\n",
       "      <td>8FJE</td>\n",
       "      <td>synthetic</td>\n",
       "      <td>8FJE:A</td>\n",
       "    </tr>\n",
       "    <tr>\n",
       "      <th>1464</th>\n",
       "      <td>8F4X</td>\n",
       "      <td>synthetic</td>\n",
       "      <td>8F4X:1</td>\n",
       "    </tr>\n",
       "  </tbody>\n",
       "</table>\n",
       "<p>1465 rows × 3 columns</p>\n",
       "</div>"
      ],
      "text/plain": [
       "     pdb_id      label chain_id\n",
       "0      8P0E    monomer   8P0E:A\n",
       "1      8PX8    monomer   8PX8:A\n",
       "2      8B2E    monomer   8B2E:A\n",
       "3      8HOE    monomer   8HOE:A\n",
       "4      8TCE    monomer   8TCE:A\n",
       "...     ...        ...      ...\n",
       "1460   8G9J  synthetic   8G9J:A\n",
       "1461   8OYV  synthetic   8OYV:A\n",
       "1462   8TNO  synthetic   8TNO:A\n",
       "1463   8FJE  synthetic   8FJE:A\n",
       "1464   8F4X  synthetic   8F4X:1\n",
       "\n",
       "[1465 rows x 3 columns]"
      ]
     },
     "execution_count": 4,
     "metadata": {},
     "output_type": "execute_result"
    }
   ],
   "source": [
    "PROTEIN_DIRECTORY = \"data/proteins\"\n",
    "\n",
    "chains = pd.read_csv(\"data/chains.csv\")\n",
    "chains"
   ]
  },
  {
   "cell_type": "markdown",
   "id": "86f1b82f-0328-4e52-a1f5-a7a10c59bd2f",
   "metadata": {},
   "source": [
    "## Predict the structures"
   ]
  },
  {
   "cell_type": "markdown",
   "id": "67e6a265-ee11-4d4d-a775-8703330e4f6f",
   "metadata": {},
   "source": [
    "Predict the structure of all the chains in the `chains` dataframe:"
   ]
  },
  {
   "cell_type": "code",
   "execution_count": 5,
   "id": "84946c30-73c5-485c-9810-a03b37db5381",
   "metadata": {},
   "outputs": [
    {
     "name": "stdout",
     "output_type": "stream",
     "text": [
      "Predicted the structure of 50 chains.\n",
      "Predicted the structure of 100 chains.\n",
      "Predicted the structure of 150 chains.\n",
      "Predicted the structure of 200 chains.\n",
      "Predicted the structure of 250 chains.\n",
      "Predicted the structure of 300 chains.\n",
      "Predicted the structure of 350 chains.\n",
      "Predicted the structure of 400 chains.\n",
      "Predicted the structure of 450 chains.\n",
      "Predicted the structure of 500 chains.\n",
      "Predicted the structure of 550 chains.\n",
      "Predicted the structure of 600 chains.\n",
      "Predicted the structure of 650 chains.\n",
      "Predicted the structure of 700 chains.\n",
      "Predicted the structure of 750 chains.\n",
      "Predicted the structure of 800 chains.\n",
      "Predicted the structure of 850 chains.\n",
      "Predicted the structure of 900 chains.\n",
      "Predicted the structure of 950 chains.\n",
      "Predicted the structure of 1000 chains.\n",
      "Predicted the structure of 1050 chains.\n",
      "Predicted the structure of 1100 chains.\n",
      "Predicted the structure of 1150 chains.\n",
      "Predicted the structure of 1200 chains.\n",
      "Predicted the structure of 1250 chains.\n",
      "Predicted the structure of 1300 chains.\n",
      "Predicted the structure of 1350 chains.\n",
      "Predicted the structure of 1400 chains.\n",
      "Predicted the structure of 1450 chains.\n",
      "Predicted the structure of 1465 chains.\n"
     ]
    }
   ],
   "source": [
    "DEVICE = 'cuda' if torch.cuda.is_available() else 'cpu'\n",
    "NUMBER_OF_PREDICTED_CHAINS = 0\n",
    "\n",
    "\n",
    "def print_status() -> None:\n",
    "    global NUMBER_OF_PREDICTED_CHAINS\n",
    "    NUMBER_OF_PREDICTED_CHAINS += 1\n",
    "    if NUMBER_OF_PREDICTED_CHAINS % 50 == 0 or NUMBER_OF_PREDICTED_CHAINS == 1465:\n",
    "        print(f\"Predicted the structure of {NUMBER_OF_PREDICTED_CHAINS} chains.\")\n",
    "\n",
    "\n",
    "def omegafold_predict(pdb_id: str, chain_id: str, protein_directory: str) -> bool:\n",
    "    \"\"\"\n",
    "    This function obtains a prediction of structure using OmegaFold model\n",
    "    and saves it into a pdb file.\n",
    "    \n",
    "    Parameters:\n",
    "        pdb_id (str): PDB ID of the protein\n",
    "        chain_id (str): id of the chain\n",
    "        protein_directory (str): path to the directory containing all information about proteins\n",
    "\n",
    "    Returns:\n",
    "        relative path to the pdb file containing the prediction\n",
    "    \"\"\"\n",
    "    fasta_path = f\"{protein_directory}/{pdb_id}/{chain_id}.fasta\"\n",
    "    prediction_path = f\"{protein_directory}/{pdb_id}/omegafold\"\n",
    "    if not os.path.exists(prediction_path):\n",
    "        os.makedirs(prediction_path)\n",
    "    with io.capture_output() as captured:\n",
    "        !python OmegaFold/main.py --device={DEVICE} {fasta_path} {prediction_path}\n",
    "\n",
    "    print_status()\n",
    "\n",
    "    if \"Error\" in captured.stdout:\n",
    "        return None\n",
    "    return prediction_path\n",
    "\n",
    "\n",
    "chains[\"OF_prediction_path\"] = chains.apply(\n",
    "    lambda row: omegafold_predict(row[\"pdb_id\"], row[\"chain_id\"], PROTEIN_DIRECTORY),\n",
    "    axis = 1\n",
    ")"
   ]
  },
  {
   "cell_type": "code",
   "execution_count": 6,
   "id": "58f0249f-eb6e-4a59-8eca-137f5a324ecc",
   "metadata": {},
   "outputs": [
    {
     "data": {
      "text/html": [
       "<div>\n",
       "<style scoped>\n",
       "    .dataframe tbody tr th:only-of-type {\n",
       "        vertical-align: middle;\n",
       "    }\n",
       "\n",
       "    .dataframe tbody tr th {\n",
       "        vertical-align: top;\n",
       "    }\n",
       "\n",
       "    .dataframe thead th {\n",
       "        text-align: right;\n",
       "    }\n",
       "</style>\n",
       "<table border=\"1\" class=\"dataframe\">\n",
       "  <thead>\n",
       "    <tr style=\"text-align: right;\">\n",
       "      <th></th>\n",
       "      <th>pdb_id</th>\n",
       "      <th>label</th>\n",
       "      <th>chain_id</th>\n",
       "      <th>OF_prediction_path</th>\n",
       "    </tr>\n",
       "  </thead>\n",
       "  <tbody>\n",
       "    <tr>\n",
       "      <th>0</th>\n",
       "      <td>8P0E</td>\n",
       "      <td>monomer</td>\n",
       "      <td>8P0E:A</td>\n",
       "      <td>data/proteins/8P0E/omegafold</td>\n",
       "    </tr>\n",
       "    <tr>\n",
       "      <th>1</th>\n",
       "      <td>8PX8</td>\n",
       "      <td>monomer</td>\n",
       "      <td>8PX8:A</td>\n",
       "      <td>data/proteins/8PX8/omegafold</td>\n",
       "    </tr>\n",
       "    <tr>\n",
       "      <th>2</th>\n",
       "      <td>8B2E</td>\n",
       "      <td>monomer</td>\n",
       "      <td>8B2E:A</td>\n",
       "      <td>data/proteins/8B2E/omegafold</td>\n",
       "    </tr>\n",
       "    <tr>\n",
       "      <th>3</th>\n",
       "      <td>8HOE</td>\n",
       "      <td>monomer</td>\n",
       "      <td>8HOE:A</td>\n",
       "      <td>data/proteins/8HOE/omegafold</td>\n",
       "    </tr>\n",
       "    <tr>\n",
       "      <th>4</th>\n",
       "      <td>8TCE</td>\n",
       "      <td>monomer</td>\n",
       "      <td>8TCE:A</td>\n",
       "      <td>data/proteins/8TCE/omegafold</td>\n",
       "    </tr>\n",
       "    <tr>\n",
       "      <th>...</th>\n",
       "      <td>...</td>\n",
       "      <td>...</td>\n",
       "      <td>...</td>\n",
       "      <td>...</td>\n",
       "    </tr>\n",
       "    <tr>\n",
       "      <th>1460</th>\n",
       "      <td>8G9J</td>\n",
       "      <td>synthetic</td>\n",
       "      <td>8G9J:A</td>\n",
       "      <td>data/proteins/8G9J/omegafold</td>\n",
       "    </tr>\n",
       "    <tr>\n",
       "      <th>1461</th>\n",
       "      <td>8OYV</td>\n",
       "      <td>synthetic</td>\n",
       "      <td>8OYV:A</td>\n",
       "      <td>data/proteins/8OYV/omegafold</td>\n",
       "    </tr>\n",
       "    <tr>\n",
       "      <th>1462</th>\n",
       "      <td>8TNO</td>\n",
       "      <td>synthetic</td>\n",
       "      <td>8TNO:A</td>\n",
       "      <td>data/proteins/8TNO/omegafold</td>\n",
       "    </tr>\n",
       "    <tr>\n",
       "      <th>1463</th>\n",
       "      <td>8FJE</td>\n",
       "      <td>synthetic</td>\n",
       "      <td>8FJE:A</td>\n",
       "      <td>data/proteins/8FJE/omegafold</td>\n",
       "    </tr>\n",
       "    <tr>\n",
       "      <th>1464</th>\n",
       "      <td>8F4X</td>\n",
       "      <td>synthetic</td>\n",
       "      <td>8F4X:1</td>\n",
       "      <td>data/proteins/8F4X/omegafold</td>\n",
       "    </tr>\n",
       "  </tbody>\n",
       "</table>\n",
       "<p>1465 rows × 4 columns</p>\n",
       "</div>"
      ],
      "text/plain": [
       "     pdb_id      label chain_id            OF_prediction_path\n",
       "0      8P0E    monomer   8P0E:A  data/proteins/8P0E/omegafold\n",
       "1      8PX8    monomer   8PX8:A  data/proteins/8PX8/omegafold\n",
       "2      8B2E    monomer   8B2E:A  data/proteins/8B2E/omegafold\n",
       "3      8HOE    monomer   8HOE:A  data/proteins/8HOE/omegafold\n",
       "4      8TCE    monomer   8TCE:A  data/proteins/8TCE/omegafold\n",
       "...     ...        ...      ...                           ...\n",
       "1460   8G9J  synthetic   8G9J:A  data/proteins/8G9J/omegafold\n",
       "1461   8OYV  synthetic   8OYV:A  data/proteins/8OYV/omegafold\n",
       "1462   8TNO  synthetic   8TNO:A  data/proteins/8TNO/omegafold\n",
       "1463   8FJE  synthetic   8FJE:A  data/proteins/8FJE/omegafold\n",
       "1464   8F4X  synthetic   8F4X:1  data/proteins/8F4X/omegafold\n",
       "\n",
       "[1465 rows x 4 columns]"
      ]
     },
     "execution_count": 6,
     "metadata": {},
     "output_type": "execute_result"
    }
   ],
   "source": [
    "chains"
   ]
  },
  {
   "cell_type": "markdown",
   "id": "6174fc25-1a44-4882-b4cd-dfa8d8f47a28",
   "metadata": {},
   "source": [
    "Number of proteins for which the prediction failed:"
   ]
  },
  {
   "cell_type": "code",
   "execution_count": 9,
   "id": "50cd4074-9317-4c19-a952-66742dad90f1",
   "metadata": {},
   "outputs": [
    {
     "data": {
      "text/plain": [
       "0"
      ]
     },
     "execution_count": 9,
     "metadata": {},
     "output_type": "execute_result"
    }
   ],
   "source": [
    "chains[\"OF_prediction_path\"].isna().sum()"
   ]
  },
  {
   "cell_type": "markdown",
   "id": "5f56950c-2eb6-4075-ac09-343960159a8d",
   "metadata": {},
   "source": [
    "## Save chain dataframe as .csv file"
   ]
  },
  {
   "cell_type": "code",
   "execution_count": 7,
   "id": "b1b8a69a-5177-4365-9081-6483312fd3e6",
   "metadata": {},
   "outputs": [],
   "source": [
    "chains.to_csv(\"proteins/chains_omegafold.csv\", sep = \",\", index = False)"
   ]
  }
 ],
 "metadata": {
  "kernelspec": {
   "display_name": "Python [conda env:omegafold]",
   "language": "python",
   "name": "conda-env-omegafold-py"
  },
  "language_info": {
   "codemirror_mode": {
    "name": "ipython",
    "version": 3
   },
   "file_extension": ".py",
   "mimetype": "text/x-python",
   "name": "python",
   "nbconvert_exporter": "python",
   "pygments_lexer": "ipython3",
   "version": "3.11.0"
  },
  "toc-autonumbering": false,
  "toc-showcode": true,
  "toc-showmarkdowntxt": true
 },
 "nbformat": 4,
 "nbformat_minor": 5
}
