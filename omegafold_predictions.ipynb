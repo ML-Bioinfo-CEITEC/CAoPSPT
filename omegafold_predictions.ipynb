{
 "cells": [
  {
   "cell_type": "markdown",
   "id": "eb1c49b8-652b-4863-b4cd-d410d705f35f",
   "metadata": {},
   "source": [
    "# Omegafold - test predictions, obtaining information about chains from fasta files"
   ]
  },
  {
   "cell_type": "markdown",
   "id": "2431f45b-8412-47f2-ac82-b6b7cf5a0315",
   "metadata": {},
   "source": [
    "Installation of necessary software:"
   ]
  },
  {
   "cell_type": "code",
   "execution_count": 1,
   "id": "009261ac-e0cc-4d97-909a-7d2f0ea4ee97",
   "metadata": {},
   "outputs": [],
   "source": [
    "from IPython.utils import io"
   ]
  },
  {
   "cell_type": "code",
   "execution_count": 1,
   "id": "0b3aaf35-7d72-4f3d-8db4-f75497445258",
   "metadata": {},
   "outputs": [
    {
     "name": "stdout",
     "output_type": "stream",
     "text": [
      "Installation successful\n"
     ]
    }
   ],
   "source": [
    "with io.capture_output() as captured:\n",
    "    !pip install -q torch\n",
    "    !conda install -y requests\n",
    "    !conda install -y biopython\n",
    "    !conda install -y pandas\n",
    "    !pip install -q git+https://github.com/jvkersch/tmtools.git\n",
    "    !conda install -y Prody\n",
    "    !git clone --branch beta --quiet https://github.com/sokrypton/OmegaFold.git\n",
    "    !pip -q install py3Dmol\n",
    "    !apt-get install aria2 -qq > /dev/null\n",
    "    !aria2c -q -x 16 https://helixon.s3.amazonaws.com/release1.pt\n",
    "    !mkdir -p ~/.cache/omegafold_ckpt\n",
    "    !mv release1.pt ~/.cache/omegafold_ckpt/model.pt\n",
    "\n",
    "print(captured.stderr if captured.stderr != \"\" else \"Installation successful\")"
   ]
  },
  {
   "cell_type": "code",
   "execution_count": 2,
   "id": "9f0bc686-5a18-4e5a-bb34-09122ac21257",
   "metadata": {},
   "outputs": [],
   "source": [
    "import os, sys, re, torch, requests, json, Bio\n",
    "import pandas as pd"
   ]
  },
  {
   "cell_type": "markdown",
   "id": "d89ca740-b83a-4a10-91e5-7d5184bf399d",
   "metadata": {},
   "source": [
    "## Load `proteins` and `chains` dataframes from csv files"
   ]
  },
  {
   "cell_type": "code",
   "execution_count": 3,
   "id": "c9c91b48-6ff5-4a7b-8361-2dc46df3f578",
   "metadata": {},
   "outputs": [
    {
     "data": {
      "text/html": [
       "<div>\n",
       "<style scoped>\n",
       "    .dataframe tbody tr th:only-of-type {\n",
       "        vertical-align: middle;\n",
       "    }\n",
       "\n",
       "    .dataframe tbody tr th {\n",
       "        vertical-align: top;\n",
       "    }\n",
       "\n",
       "    .dataframe thead th {\n",
       "        text-align: right;\n",
       "    }\n",
       "</style>\n",
       "<table border=\"1\" class=\"dataframe\">\n",
       "  <thead>\n",
       "    <tr style=\"text-align: right;\">\n",
       "      <th></th>\n",
       "      <th>pdb_id</th>\n",
       "      <th>original_pdb_path</th>\n",
       "      <th>original_fasta_path</th>\n",
       "      <th>unique_chains</th>\n",
       "      <th>inferred_fasta_path</th>\n",
       "    </tr>\n",
       "  </thead>\n",
       "  <tbody>\n",
       "    <tr>\n",
       "      <th>0</th>\n",
       "      <td>8EIO</td>\n",
       "      <td>proteins/original_pdb_files/8EIO.pdb</td>\n",
       "      <td>proteins/original_fasta_files/8EIO.fasta</td>\n",
       "      <td>{'8EIO:B', '8EIO:A'}</td>\n",
       "      <td>proteins/inferred_fasta_files/8EIO.fasta</td>\n",
       "    </tr>\n",
       "    <tr>\n",
       "      <th>1</th>\n",
       "      <td>8FMN</td>\n",
       "      <td>proteins/original_pdb_files/8FMN.pdb</td>\n",
       "      <td>proteins/original_fasta_files/8FMN.fasta</td>\n",
       "      <td>{'8FMN:A', '8FMN:B', '8FMN:C'}</td>\n",
       "      <td>proteins/inferred_fasta_files/8FMN.fasta</td>\n",
       "    </tr>\n",
       "    <tr>\n",
       "      <th>2</th>\n",
       "      <td>7XBG</td>\n",
       "      <td>proteins/original_pdb_files/7XBG.pdb</td>\n",
       "      <td>proteins/original_fasta_files/7XBG.fasta</td>\n",
       "      <td>{'7XBG:A', '7XBG:B'}</td>\n",
       "      <td>proteins/inferred_fasta_files/7XBG.fasta</td>\n",
       "    </tr>\n",
       "    <tr>\n",
       "      <th>3</th>\n",
       "      <td>7UFZ</td>\n",
       "      <td>proteins/original_pdb_files/7UFZ.pdb</td>\n",
       "      <td>proteins/original_fasta_files/7UFZ.fasta</td>\n",
       "      <td>{'7UFZ:A'}</td>\n",
       "      <td>proteins/inferred_fasta_files/7UFZ.fasta</td>\n",
       "    </tr>\n",
       "    <tr>\n",
       "      <th>4</th>\n",
       "      <td>8D20</td>\n",
       "      <td>proteins/original_pdb_files/8D20.pdb</td>\n",
       "      <td>proteins/original_fasta_files/8D20.fasta</td>\n",
       "      <td>{'8D20:A'}</td>\n",
       "      <td>proteins/inferred_fasta_files/8D20.fasta</td>\n",
       "    </tr>\n",
       "  </tbody>\n",
       "</table>\n",
       "</div>"
      ],
      "text/plain": [
       "  pdb_id                     original_pdb_path  \\\n",
       "0   8EIO  proteins/original_pdb_files/8EIO.pdb   \n",
       "1   8FMN  proteins/original_pdb_files/8FMN.pdb   \n",
       "2   7XBG  proteins/original_pdb_files/7XBG.pdb   \n",
       "3   7UFZ  proteins/original_pdb_files/7UFZ.pdb   \n",
       "4   8D20  proteins/original_pdb_files/8D20.pdb   \n",
       "\n",
       "                        original_fasta_path                   unique_chains  \\\n",
       "0  proteins/original_fasta_files/8EIO.fasta            {'8EIO:B', '8EIO:A'}   \n",
       "1  proteins/original_fasta_files/8FMN.fasta  {'8FMN:A', '8FMN:B', '8FMN:C'}   \n",
       "2  proteins/original_fasta_files/7XBG.fasta            {'7XBG:A', '7XBG:B'}   \n",
       "3  proteins/original_fasta_files/7UFZ.fasta                      {'7UFZ:A'}   \n",
       "4  proteins/original_fasta_files/8D20.fasta                      {'8D20:A'}   \n",
       "\n",
       "                        inferred_fasta_path  \n",
       "0  proteins/inferred_fasta_files/8EIO.fasta  \n",
       "1  proteins/inferred_fasta_files/8FMN.fasta  \n",
       "2  proteins/inferred_fasta_files/7XBG.fasta  \n",
       "3  proteins/inferred_fasta_files/7UFZ.fasta  \n",
       "4  proteins/inferred_fasta_files/8D20.fasta  "
      ]
     },
     "execution_count": 3,
     "metadata": {},
     "output_type": "execute_result"
    }
   ],
   "source": [
    "proteins = pd.read_csv('proteins/proteins.csv')\n",
    "proteins"
   ]
  },
  {
   "cell_type": "code",
   "execution_count": 4,
   "id": "1dcd95cc-8f17-45cf-9848-974f282cf22f",
   "metadata": {},
   "outputs": [
    {
     "data": {
      "text/html": [
       "<div>\n",
       "<style scoped>\n",
       "    .dataframe tbody tr th:only-of-type {\n",
       "        vertical-align: middle;\n",
       "    }\n",
       "\n",
       "    .dataframe tbody tr th {\n",
       "        vertical-align: top;\n",
       "    }\n",
       "\n",
       "    .dataframe thead th {\n",
       "        text-align: right;\n",
       "    }\n",
       "</style>\n",
       "<table border=\"1\" class=\"dataframe\">\n",
       "  <thead>\n",
       "    <tr style=\"text-align: right;\">\n",
       "      <th></th>\n",
       "      <th>pdb_id</th>\n",
       "      <th>original_pdb_path</th>\n",
       "      <th>original_fasta_path</th>\n",
       "      <th>chain_id</th>\n",
       "      <th>inferred_fasta_path</th>\n",
       "    </tr>\n",
       "  </thead>\n",
       "  <tbody>\n",
       "    <tr>\n",
       "      <th>0</th>\n",
       "      <td>8EIO</td>\n",
       "      <td>proteins/original_pdb_files/8EIO.pdb</td>\n",
       "      <td>proteins/original_fasta_files/8EIO.fasta</td>\n",
       "      <td>8EIO:B</td>\n",
       "      <td>proteins/inferred_fasta_files/8EIO.fasta</td>\n",
       "    </tr>\n",
       "    <tr>\n",
       "      <th>1</th>\n",
       "      <td>8EIO</td>\n",
       "      <td>proteins/original_pdb_files/8EIO.pdb</td>\n",
       "      <td>proteins/original_fasta_files/8EIO.fasta</td>\n",
       "      <td>8EIO:A</td>\n",
       "      <td>proteins/inferred_fasta_files/8EIO.fasta</td>\n",
       "    </tr>\n",
       "    <tr>\n",
       "      <th>2</th>\n",
       "      <td>8FMN</td>\n",
       "      <td>proteins/original_pdb_files/8FMN.pdb</td>\n",
       "      <td>proteins/original_fasta_files/8FMN.fasta</td>\n",
       "      <td>8FMN:A</td>\n",
       "      <td>proteins/inferred_fasta_files/8FMN.fasta</td>\n",
       "    </tr>\n",
       "    <tr>\n",
       "      <th>3</th>\n",
       "      <td>8FMN</td>\n",
       "      <td>proteins/original_pdb_files/8FMN.pdb</td>\n",
       "      <td>proteins/original_fasta_files/8FMN.fasta</td>\n",
       "      <td>8FMN:B</td>\n",
       "      <td>proteins/inferred_fasta_files/8FMN.fasta</td>\n",
       "    </tr>\n",
       "    <tr>\n",
       "      <th>4</th>\n",
       "      <td>8FMN</td>\n",
       "      <td>proteins/original_pdb_files/8FMN.pdb</td>\n",
       "      <td>proteins/original_fasta_files/8FMN.fasta</td>\n",
       "      <td>8FMN:C</td>\n",
       "      <td>proteins/inferred_fasta_files/8FMN.fasta</td>\n",
       "    </tr>\n",
       "    <tr>\n",
       "      <th>5</th>\n",
       "      <td>7XBG</td>\n",
       "      <td>proteins/original_pdb_files/7XBG.pdb</td>\n",
       "      <td>proteins/original_fasta_files/7XBG.fasta</td>\n",
       "      <td>7XBG:A</td>\n",
       "      <td>proteins/inferred_fasta_files/7XBG.fasta</td>\n",
       "    </tr>\n",
       "    <tr>\n",
       "      <th>6</th>\n",
       "      <td>7XBG</td>\n",
       "      <td>proteins/original_pdb_files/7XBG.pdb</td>\n",
       "      <td>proteins/original_fasta_files/7XBG.fasta</td>\n",
       "      <td>7XBG:B</td>\n",
       "      <td>proteins/inferred_fasta_files/7XBG.fasta</td>\n",
       "    </tr>\n",
       "    <tr>\n",
       "      <th>7</th>\n",
       "      <td>7UFZ</td>\n",
       "      <td>proteins/original_pdb_files/7UFZ.pdb</td>\n",
       "      <td>proteins/original_fasta_files/7UFZ.fasta</td>\n",
       "      <td>7UFZ:A</td>\n",
       "      <td>proteins/inferred_fasta_files/7UFZ.fasta</td>\n",
       "    </tr>\n",
       "    <tr>\n",
       "      <th>8</th>\n",
       "      <td>8D20</td>\n",
       "      <td>proteins/original_pdb_files/8D20.pdb</td>\n",
       "      <td>proteins/original_fasta_files/8D20.fasta</td>\n",
       "      <td>8D20:A</td>\n",
       "      <td>proteins/inferred_fasta_files/8D20.fasta</td>\n",
       "    </tr>\n",
       "  </tbody>\n",
       "</table>\n",
       "</div>"
      ],
      "text/plain": [
       "  pdb_id                     original_pdb_path  \\\n",
       "0   8EIO  proteins/original_pdb_files/8EIO.pdb   \n",
       "1   8EIO  proteins/original_pdb_files/8EIO.pdb   \n",
       "2   8FMN  proteins/original_pdb_files/8FMN.pdb   \n",
       "3   8FMN  proteins/original_pdb_files/8FMN.pdb   \n",
       "4   8FMN  proteins/original_pdb_files/8FMN.pdb   \n",
       "5   7XBG  proteins/original_pdb_files/7XBG.pdb   \n",
       "6   7XBG  proteins/original_pdb_files/7XBG.pdb   \n",
       "7   7UFZ  proteins/original_pdb_files/7UFZ.pdb   \n",
       "8   8D20  proteins/original_pdb_files/8D20.pdb   \n",
       "\n",
       "                        original_fasta_path chain_id  \\\n",
       "0  proteins/original_fasta_files/8EIO.fasta   8EIO:B   \n",
       "1  proteins/original_fasta_files/8EIO.fasta   8EIO:A   \n",
       "2  proteins/original_fasta_files/8FMN.fasta   8FMN:A   \n",
       "3  proteins/original_fasta_files/8FMN.fasta   8FMN:B   \n",
       "4  proteins/original_fasta_files/8FMN.fasta   8FMN:C   \n",
       "5  proteins/original_fasta_files/7XBG.fasta   7XBG:A   \n",
       "6  proteins/original_fasta_files/7XBG.fasta   7XBG:B   \n",
       "7  proteins/original_fasta_files/7UFZ.fasta   7UFZ:A   \n",
       "8  proteins/original_fasta_files/8D20.fasta   8D20:A   \n",
       "\n",
       "                        inferred_fasta_path  \n",
       "0  proteins/inferred_fasta_files/8EIO.fasta  \n",
       "1  proteins/inferred_fasta_files/8EIO.fasta  \n",
       "2  proteins/inferred_fasta_files/8FMN.fasta  \n",
       "3  proteins/inferred_fasta_files/8FMN.fasta  \n",
       "4  proteins/inferred_fasta_files/8FMN.fasta  \n",
       "5  proteins/inferred_fasta_files/7XBG.fasta  \n",
       "6  proteins/inferred_fasta_files/7XBG.fasta  \n",
       "7  proteins/inferred_fasta_files/7UFZ.fasta  \n",
       "8  proteins/inferred_fasta_files/8D20.fasta  "
      ]
     },
     "execution_count": 4,
     "metadata": {},
     "output_type": "execute_result"
    }
   ],
   "source": [
    "chains = pd.read_csv('proteins/chains.csv')\n",
    "chains"
   ]
  },
  {
   "cell_type": "markdown",
   "id": "86f1b82f-0328-4e52-a1f5-a7a10c59bd2f",
   "metadata": {},
   "source": [
    "## Predicting the structures"
   ]
  },
  {
   "cell_type": "markdown",
   "id": "0c4e2264-fde2-4249-ac55-053d9d1c5ef8",
   "metadata": {},
   "source": [
    "Prepare directory:"
   ]
  },
  {
   "cell_type": "code",
   "execution_count": 5,
   "id": "2d68a061-0263-4c67-bd6d-7272c3d9e025",
   "metadata": {},
   "outputs": [
    {
     "name": "stdout",
     "output_type": "stream",
     "text": [
      "mkdir: cannot create directory ‘proteins/omegafold_predicted_pdb_files’: File exists\n"
     ]
    }
   ],
   "source": [
    "OF_PREDICTED_PDB_FILES_DIRECTORY = \"proteins/omegafold_predicted_pdb_files\"\n",
    "!mkdir {OF_PREDICTED_PDB_FILES_DIRECTORY}"
   ]
  },
  {
   "cell_type": "code",
   "execution_count": 7,
   "id": "acb7a257-6780-43ab-9909-29be685a1be2",
   "metadata": {},
   "outputs": [],
   "source": [
    "chains[\"OF_prediction_pdb_path\"] = chains.apply(lambda row: f\"{OF_PREDICTED_PDB_FILES_DIRECTORY}/{row['chain_id']}.pdb\", axis = 1)"
   ]
  },
  {
   "cell_type": "markdown",
   "id": "67e6a265-ee11-4d4d-a775-8703330e4f6f",
   "metadata": {},
   "source": [
    "Predict the structure of all the chains in the `chains` dataframe:"
   ]
  },
  {
   "cell_type": "code",
   "execution_count": 53,
   "id": "84946c30-73c5-485c-9810-a03b37db5381",
   "metadata": {},
   "outputs": [
    {
     "name": "stdout",
     "output_type": "stream",
     "text": [
      "Prediction of structure 8EIO was unsuccessful\n",
      "Successfully predicted the structure of 8FMN\n",
      "Successfully predicted the structure of 7XBG\n",
      "Successfully predicted the structure of 7UFZ\n",
      "Successfully predicted the structure of 8D20\n"
     ]
    }
   ],
   "source": [
    "device = 'cuda' if torch.cuda.is_available() else 'cpu'\n",
    "\n",
    "for index, row in proteins.iterrows():\n",
    "    fasta_path = row[\"original_fasta_path\"]\n",
    "    with io.capture_output() as captured:\n",
    "        !python OmegaFold/main.py --device={device} {fasta_path} {OF_PREDICTED_PDB_FILES_DIRECTORY}\n",
    "    if \"Error\" in captured.stdout:\n",
    "        chains.loc[chains[\"pdb_id\"] == row[\"pdb_id\"], \"OF_prediction_pdb_path\"] = None\n",
    "        print(f\"Prediction of structure {row['pdb_id']} was unsuccessful.\")\n",
    "    elif index % 10 == 0 or index == 749:\n",
    "        print(f\"Successfully predicted the structure of {index + 1} proteins.\")\n"
   ]
  },
  {
   "cell_type": "markdown",
   "id": "5f56950c-2eb6-4075-ac09-343960159a8d",
   "metadata": {},
   "source": [
    "## Save chain dataframe as csv file"
   ]
  },
  {
   "cell_type": "code",
   "execution_count": null,
   "id": "b1b8a69a-5177-4365-9081-6483312fd3e6",
   "metadata": {},
   "outputs": [],
   "source": [
    "chains.to_csv(\"proteins/chains_omegafold.csv\", sep = \",\", index = False)"
   ]
  }
 ],
 "metadata": {
  "kernelspec": {
   "display_name": "Python [conda env:omegafold]",
   "language": "python",
   "name": "conda-env-omegafold-py"
  },
  "language_info": {
   "codemirror_mode": {
    "name": "ipython",
    "version": 3
   },
   "file_extension": ".py",
   "mimetype": "text/x-python",
   "name": "python",
   "nbconvert_exporter": "python",
   "pygments_lexer": "ipython3",
   "version": "3.11.0"
  },
  "toc-autonumbering": false,
  "toc-showcode": true,
  "toc-showmarkdowntxt": true
 },
 "nbformat": 4,
 "nbformat_minor": 5
}
