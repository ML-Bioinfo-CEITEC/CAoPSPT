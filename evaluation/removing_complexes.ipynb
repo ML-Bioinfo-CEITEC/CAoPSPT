{
 "cells": [
  {
   "cell_type": "markdown",
   "id": "4c6bf655-c3f0-4ed1-96c1-c6515aa9d1f8",
   "metadata": {},
   "source": [
    "# Removing protein chains labelled \"complexes\" with a high sequence similarity"
   ]
  },
  {
   "cell_type": "code",
   "execution_count": 1,
   "id": "de5932b5-e952-48c2-a89b-2f8550c4c058",
   "metadata": {},
   "outputs": [],
   "source": [
    "import pandas as pd\n",
    "import os\n",
    "from typing import List"
   ]
  },
  {
   "cell_type": "code",
   "execution_count": 2,
   "id": "d41b5bc3-e922-4bb7-aba9-e56616fea6b4",
   "metadata": {},
   "outputs": [
    {
     "data": {
      "text/html": [
       "<div>\n",
       "<style scoped>\n",
       "    .dataframe tbody tr th:only-of-type {\n",
       "        vertical-align: middle;\n",
       "    }\n",
       "\n",
       "    .dataframe tbody tr th {\n",
       "        vertical-align: top;\n",
       "    }\n",
       "\n",
       "    .dataframe thead th {\n",
       "        text-align: right;\n",
       "    }\n",
       "</style>\n",
       "<table border=\"1\" class=\"dataframe\">\n",
       "  <thead>\n",
       "    <tr style=\"text-align: right;\">\n",
       "      <th></th>\n",
       "      <th>pdb_id</th>\n",
       "      <th>label</th>\n",
       "      <th>chain_id</th>\n",
       "    </tr>\n",
       "  </thead>\n",
       "  <tbody>\n",
       "    <tr>\n",
       "      <th>0</th>\n",
       "      <td>8P0E</td>\n",
       "      <td>monomer</td>\n",
       "      <td>8P0E:A</td>\n",
       "    </tr>\n",
       "    <tr>\n",
       "      <th>1</th>\n",
       "      <td>8PX8</td>\n",
       "      <td>monomer</td>\n",
       "      <td>8PX8:A</td>\n",
       "    </tr>\n",
       "    <tr>\n",
       "      <th>2</th>\n",
       "      <td>8B2E</td>\n",
       "      <td>monomer</td>\n",
       "      <td>8B2E:A</td>\n",
       "    </tr>\n",
       "    <tr>\n",
       "      <th>3</th>\n",
       "      <td>8HOE</td>\n",
       "      <td>monomer</td>\n",
       "      <td>8HOE:A</td>\n",
       "    </tr>\n",
       "    <tr>\n",
       "      <th>4</th>\n",
       "      <td>8TCE</td>\n",
       "      <td>monomer</td>\n",
       "      <td>8TCE:A</td>\n",
       "    </tr>\n",
       "    <tr>\n",
       "      <th>...</th>\n",
       "      <td>...</td>\n",
       "      <td>...</td>\n",
       "      <td>...</td>\n",
       "    </tr>\n",
       "    <tr>\n",
       "      <th>1458</th>\n",
       "      <td>8G9J</td>\n",
       "      <td>synthetic</td>\n",
       "      <td>8G9J:A</td>\n",
       "    </tr>\n",
       "    <tr>\n",
       "      <th>1459</th>\n",
       "      <td>8OYV</td>\n",
       "      <td>synthetic</td>\n",
       "      <td>8OYV:A</td>\n",
       "    </tr>\n",
       "    <tr>\n",
       "      <th>1460</th>\n",
       "      <td>8TNO</td>\n",
       "      <td>synthetic</td>\n",
       "      <td>8TNO:A</td>\n",
       "    </tr>\n",
       "    <tr>\n",
       "      <th>1461</th>\n",
       "      <td>8FJE</td>\n",
       "      <td>synthetic</td>\n",
       "      <td>8FJE:A</td>\n",
       "    </tr>\n",
       "    <tr>\n",
       "      <th>1462</th>\n",
       "      <td>8F4X</td>\n",
       "      <td>synthetic</td>\n",
       "      <td>8F4X:1</td>\n",
       "    </tr>\n",
       "  </tbody>\n",
       "</table>\n",
       "<p>1463 rows × 3 columns</p>\n",
       "</div>"
      ],
      "text/plain": [
       "     pdb_id      label chain_id\n",
       "0      8P0E    monomer   8P0E:A\n",
       "1      8PX8    monomer   8PX8:A\n",
       "2      8B2E    monomer   8B2E:A\n",
       "3      8HOE    monomer   8HOE:A\n",
       "4      8TCE    monomer   8TCE:A\n",
       "...     ...        ...      ...\n",
       "1458   8G9J  synthetic   8G9J:A\n",
       "1459   8OYV  synthetic   8OYV:A\n",
       "1460   8TNO  synthetic   8TNO:A\n",
       "1461   8FJE  synthetic   8FJE:A\n",
       "1462   8F4X  synthetic   8F4X:1\n",
       "\n",
       "[1463 rows x 3 columns]"
      ]
     },
     "execution_count": 2,
     "metadata": {},
     "output_type": "execute_result"
    }
   ],
   "source": [
    "PROTEIN_DIRECTORY = \"data/proteins\"\n",
    "\n",
    "chains = pd.read_csv(\"data/chains.csv\")\n",
    "chains"
   ]
  },
  {
   "cell_type": "code",
   "execution_count": 3,
   "id": "0a6ec67c-cff4-4ec0-a53a-7624c79b299b",
   "metadata": {},
   "outputs": [],
   "source": [
    "CLUSTERING_DIRECTORY = \"data/clustering\"\n",
    "if not os.path.exists(CLUSTERING_DIRECTORY):\n",
    "        os.makedirs(CLUSTERING_DIRECTORY)"
   ]
  },
  {
   "cell_type": "markdown",
   "id": "921df61a-aa46-4b54-86ee-5bcacc879113",
   "metadata": {},
   "source": [
    "## Preparing FASTA file with all sequences"
   ]
  },
  {
   "cell_type": "code",
   "execution_count": 4,
   "id": "2c29340e-4e90-4fe7-9c31-2658a45b77cb",
   "metadata": {},
   "outputs": [],
   "source": [
    "SEQUENCES = []\n",
    "CHAIN_IDS = set(chains[chains[\"label\"] == \"complex\"][\"chain_id\"])\n",
    "\n",
    "def get_sequence(fasta_path: str) -> str:\n",
    "    \"\"\"\n",
    "    This function obtains a sequence from a given fasta file.\n",
    "    \n",
    "    Parameters:\n",
    "        fasta_path (str): path to a fasta file containing exactly one\n",
    "                          sequence on the second line of the file\n",
    "    \n",
    "    Returns:\n",
    "        string of letters without a new line at the end\n",
    "    \"\"\"\n",
    "    with open(fasta_path, \"r\") as file:\n",
    "        lines = file.readlines()\n",
    "\n",
    "    assert(len(lines) == 2)\n",
    "    return lines[1].strip()\n",
    "\n",
    "\n",
    "def add_to_fasta(chain_id: str, fasta_path: str) -> None:\n",
    "    sequence = get_sequence(fasta_path)\n",
    "    SEQUENCES.append(f\">{chain_id}\\n{sequence}\\n\")\n",
    "\n",
    "chains[chains[\"label\"] == \"complex\"].apply(\n",
    "    lambda row: add_to_fasta(row[\"chain_id\"], f\"{PROTEIN_DIRECTORY}/{row['pdb_id']}/{row['chain_id']}.fasta\"),\n",
    "    axis = 1\n",
    ")\n",
    "\n",
    "with open(f\"{CLUSTERING_DIRECTORY}/complex_sequences.fasta\", \"w\") as f:\n",
    "    f.write(\"\".join(sorted(SEQUENCES)))"
   ]
  },
  {
   "cell_type": "markdown",
   "id": "683db52b-8a0e-4c03-890e-99a5030cebf1",
   "metadata": {},
   "source": [
    "## Clustering (on Metacentrum)"
   ]
  },
  {
   "cell_type": "markdown",
   "id": "e6975440-51fe-4ee2-b2bc-1750b57c009f",
   "metadata": {},
   "source": [
    "Run on Metacentrum OnDemand using Frontend Shell (version of cdhit: `cdhit/4.8.1-gcc-10.2.1-zlhcwe3`):"
   ]
  },
  {
   "cell_type": "raw",
   "id": "f8978567-faa9-46d8-9ba9-336786bf0e30",
   "metadata": {},
   "source": [
    "module load cdhit\n",
    "cd-hit -i complex_sequences.fasta -o clustered.fasta -c 0.7"
   ]
  },
  {
   "cell_type": "markdown",
   "id": "07a3b3c2-278a-48de-b705-5abef4390772",
   "metadata": {},
   "source": [
    "Output:"
   ]
  },
  {
   "cell_type": "raw",
   "id": "2aebc4f1-52f2-48cf-ab54-4e9bea3a1eea",
   "metadata": {},
   "source": [
    "================================================================\n",
    "Program: CD-HIT, V4.8.1 (+OpenMP), Feb 21 2023, 01:11:46\n",
    "Command: cd-hit -i complex_sequences.fasta -o clustered.fasta\n",
    "         -c 0.7\n",
    "\n",
    "Started: Sun Dec  8 21:04:02 2024\n",
    "================================================================\n",
    "                            Output                              \n",
    "----------------------------------------------------------------\n",
    "total seq: 381\n",
    "longest and shortest : 400 and 21\n",
    "Total letters: 88567\n",
    "Sequences have been sorted\n",
    "\n",
    "Approximated minimal memory consumption:\n",
    "Sequence        : 0M\n",
    "Buffer          : 1 X 160M = 160M\n",
    "Table           : 1 X 65M = 65M\n",
    "Miscellaneous   : 0M\n",
    "Total           : 225M\n",
    "\n",
    "Table limit with the given memory limit:\n",
    "Max number of representatives: 1438195\n",
    "Max number of word counting entries: 71801897\n",
    "\n",
    "comparing sequences from          0  to        381\n",
    "\n",
    "      381  finished        255  clusters\n",
    "\n",
    "Approximated maximum memory consumption: 226M\n",
    "writing new database\n",
    "writing clustering information\n",
    "program completed !"
   ]
  },
  {
   "cell_type": "markdown",
   "id": "98b7ba07-14a3-4e9d-898a-dd506765e58a",
   "metadata": {},
   "source": [
    "Representative sequences are in a file `clustered.fasta`, detailed information about clusters are in `clustered.fasta.clstr`."
   ]
  },
  {
   "cell_type": "markdown",
   "id": "5f42c6c9-902f-48fd-8d58-c59d7e85501f",
   "metadata": {},
   "source": [
    "## Removing redundant "
   ]
  },
  {
   "cell_type": "code",
   "execution_count": 5,
   "id": "b66dc53e-c75a-4bc1-8623-788f71e40447",
   "metadata": {},
   "outputs": [
    {
     "name": "stdout",
     "output_type": "stream",
     "text": [
      "Original number of protein chains labelled 'complex': 381\n",
      "Number of clusters: 255\n",
      "Number of protein chains to remove: 126\n",
      "New number of protein chains labelled 'complex': 255\n"
     ]
    }
   ],
   "source": [
    "with open(f\"{CLUSTERING_DIRECTORY}/clustered.fasta\", \"r\") as f:\n",
    "    lines = f.readlines()\n",
    "\n",
    "REPRESENTATIVES_CHAIN_IDS = []\n",
    "for line in lines:\n",
    "    if line.startswith(\">\"):\n",
    "        REPRESENTATIVES_CHAIN_IDS.append(line.lstrip(\">\").rstrip())\n",
    "\n",
    "TO_REMOVE = set(CHAIN_IDS) - set(REPRESENTATIVES_CHAIN_IDS)\n",
    "\n",
    "print(f\"Original number of protein chains labelled 'complex': {len(CHAIN_IDS)}\")\n",
    "print(f\"Number of clusters: {len(REPRESENTATIVES_CHAIN_IDS)}\")\n",
    "print(f\"Number of protein chains to remove: {len(TO_REMOVE)}\")\n",
    "print(f\"New number of protein chains labelled 'complex': {len(CHAIN_IDS) - len(TO_REMOVE)}\")"
   ]
  },
  {
   "cell_type": "code",
   "execution_count": 6,
   "id": "74bd5b75-590c-4454-85fb-aa7838142334",
   "metadata": {},
   "outputs": [
    {
     "data": {
      "text/html": [
       "<div>\n",
       "<style scoped>\n",
       "    .dataframe tbody tr th:only-of-type {\n",
       "        vertical-align: middle;\n",
       "    }\n",
       "\n",
       "    .dataframe tbody tr th {\n",
       "        vertical-align: top;\n",
       "    }\n",
       "\n",
       "    .dataframe thead th {\n",
       "        text-align: right;\n",
       "    }\n",
       "</style>\n",
       "<table border=\"1\" class=\"dataframe\">\n",
       "  <thead>\n",
       "    <tr style=\"text-align: right;\">\n",
       "      <th></th>\n",
       "      <th>pdb_id</th>\n",
       "      <th>label</th>\n",
       "      <th>chain_id</th>\n",
       "    </tr>\n",
       "  </thead>\n",
       "  <tbody>\n",
       "    <tr>\n",
       "      <th>0</th>\n",
       "      <td>8P0E</td>\n",
       "      <td>monomer</td>\n",
       "      <td>8P0E:A</td>\n",
       "    </tr>\n",
       "    <tr>\n",
       "      <th>1</th>\n",
       "      <td>8PX8</td>\n",
       "      <td>monomer</td>\n",
       "      <td>8PX8:A</td>\n",
       "    </tr>\n",
       "    <tr>\n",
       "      <th>2</th>\n",
       "      <td>8B2E</td>\n",
       "      <td>monomer</td>\n",
       "      <td>8B2E:A</td>\n",
       "    </tr>\n",
       "    <tr>\n",
       "      <th>3</th>\n",
       "      <td>8HOE</td>\n",
       "      <td>monomer</td>\n",
       "      <td>8HOE:A</td>\n",
       "    </tr>\n",
       "    <tr>\n",
       "      <th>4</th>\n",
       "      <td>8TCE</td>\n",
       "      <td>monomer</td>\n",
       "      <td>8TCE:A</td>\n",
       "    </tr>\n",
       "    <tr>\n",
       "      <th>...</th>\n",
       "      <td>...</td>\n",
       "      <td>...</td>\n",
       "      <td>...</td>\n",
       "    </tr>\n",
       "    <tr>\n",
       "      <th>1458</th>\n",
       "      <td>8G9J</td>\n",
       "      <td>synthetic</td>\n",
       "      <td>8G9J:A</td>\n",
       "    </tr>\n",
       "    <tr>\n",
       "      <th>1459</th>\n",
       "      <td>8OYV</td>\n",
       "      <td>synthetic</td>\n",
       "      <td>8OYV:A</td>\n",
       "    </tr>\n",
       "    <tr>\n",
       "      <th>1460</th>\n",
       "      <td>8TNO</td>\n",
       "      <td>synthetic</td>\n",
       "      <td>8TNO:A</td>\n",
       "    </tr>\n",
       "    <tr>\n",
       "      <th>1461</th>\n",
       "      <td>8FJE</td>\n",
       "      <td>synthetic</td>\n",
       "      <td>8FJE:A</td>\n",
       "    </tr>\n",
       "    <tr>\n",
       "      <th>1462</th>\n",
       "      <td>8F4X</td>\n",
       "      <td>synthetic</td>\n",
       "      <td>8F4X:1</td>\n",
       "    </tr>\n",
       "  </tbody>\n",
       "</table>\n",
       "<p>1337 rows × 3 columns</p>\n",
       "</div>"
      ],
      "text/plain": [
       "     pdb_id      label chain_id\n",
       "0      8P0E    monomer   8P0E:A\n",
       "1      8PX8    monomer   8PX8:A\n",
       "2      8B2E    monomer   8B2E:A\n",
       "3      8HOE    monomer   8HOE:A\n",
       "4      8TCE    monomer   8TCE:A\n",
       "...     ...        ...      ...\n",
       "1458   8G9J  synthetic   8G9J:A\n",
       "1459   8OYV  synthetic   8OYV:A\n",
       "1460   8TNO  synthetic   8TNO:A\n",
       "1461   8FJE  synthetic   8FJE:A\n",
       "1462   8F4X  synthetic   8F4X:1\n",
       "\n",
       "[1337 rows x 3 columns]"
      ]
     },
     "execution_count": 6,
     "metadata": {},
     "output_type": "execute_result"
    }
   ],
   "source": [
    "chains_filtered = chains[~chains[\"chain_id\"].isin(TO_REMOVE)]\n",
    "chains_filtered"
   ]
  },
  {
   "cell_type": "code",
   "execution_count": 7,
   "id": "e5a3e8c3-6403-4c2e-b0fa-d697e3682b65",
   "metadata": {},
   "outputs": [
    {
     "data": {
      "text/plain": [
       "label\n",
       "monomer      980\n",
       "complex      255\n",
       "synthetic    102\n",
       "Name: count, dtype: int64"
      ]
     },
     "execution_count": 7,
     "metadata": {},
     "output_type": "execute_result"
    }
   ],
   "source": [
    "chains_filtered[\"label\"].value_counts()"
   ]
  },
  {
   "cell_type": "code",
   "execution_count": 8,
   "id": "e4c18494-432b-4327-815b-c62655ebcc66",
   "metadata": {},
   "outputs": [],
   "source": [
    "if not os.path.exists(\"data/filtered\"):\n",
    "        os.makedirs(\"data/filtered\")\n",
    "\n",
    "chains_filtered.to_csv(f\"data/filtered/chains_filtered.csv\", sep = \",\", index = False)"
   ]
  }
 ],
 "metadata": {
  "kernelspec": {
   "display_name": "Python [conda env:test]",
   "language": "python",
   "name": "conda-env-test-py"
  },
  "language_info": {
   "codemirror_mode": {
    "name": "ipython",
    "version": 3
   },
   "file_extension": ".py",
   "mimetype": "text/x-python",
   "name": "python",
   "nbconvert_exporter": "python",
   "pygments_lexer": "ipython3",
   "version": "3.11.0"
  }
 },
 "nbformat": 4,
 "nbformat_minor": 5
}
