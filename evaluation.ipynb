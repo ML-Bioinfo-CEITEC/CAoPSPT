{
 "cells": [
  {
   "cell_type": "markdown",
   "id": "5531a872-fddd-47a2-a38e-021de2b422a7",
   "metadata": {},
   "source": [
    "# Evaluation of predicted structures"
   ]
  },
  {
   "cell_type": "markdown",
   "id": "1ec15d41-34a7-4061-8c4c-46c91a1cae01",
   "metadata": {},
   "source": [
    "## pLDDT"
   ]
  },
  {
   "cell_type": "code",
   "execution_count": null,
   "id": "cb95bfae-f6c2-4d8b-bcae-45c552bb2603",
   "metadata": {},
   "outputs": [],
   "source": [
    "from Bio.PDB import PDBParser\n",
    "from statistics import mean\n",
    "\n",
    "def extract_average_pLDDT(pdb_path):\n",
    "    if pdb_path is None:\n",
    "        return None\n",
    "    structure = PDBParser(QUIET = True).get_structure(\"X\", pdb_path)\n",
    "    b_factors = [residue[\"CA\"].get_bfactor() for residue in structure.get_residues()]\n",
    "    return mean(b_factors)\n",
    "\n",
    "chains[\"OF_average_pLDDT\"] = chains.apply(lambda row: extract_average_pLDDT(row[\"OF_prediction_pdb_path\"]), axis = 1)\n",
    "chains"
   ]
  },
  {
   "cell_type": "markdown",
   "id": "abcfb2c4-020c-40eb-9294-ac55faf974f2",
   "metadata": {},
   "source": [
    "## TM score"
   ]
  },
  {
   "cell_type": "code",
   "execution_count": 50,
   "id": "bb52dd0f-1825-4581-bd58-ce15be365364",
   "metadata": {},
   "outputs": [
    {
     "name": "stdout",
     "output_type": "stream",
     "text": [
      "INFO:root:Loading weights from /home/jovyan/.cache/omegafold_ckpt/model.pt\n",
      "INFO:root:Constructing OmegaFold\n",
      "INFO:root:Reading proteins/inferred_fasta_files/5SSZ.fasta\n",
      "INFO:root:Predicting 1th chain in proteins/inferred_fasta_files/5SSZ.fasta\n",
      "INFO:root:323 residues in this chain.\n",
      "INFO:root:Finished prediction in 77.12 seconds.\n",
      "INFO:root:Saving prediction to proteins/omegafold_predicted_pdb_files/5SSZ:A.pdb\n",
      "INFO:root:Saved\n",
      "INFO:root:Done!\n",
      "INFO:root:Loading weights from /home/jovyan/.cache/omegafold_ckpt/model.pt\n",
      "INFO:root:Constructing OmegaFold\n",
      "INFO:root:Reading proteins/inferred_fasta_files/8HI2.fasta\n",
      "INFO:root:Predicting 1th chain in proteins/inferred_fasta_files/8HI2.fasta\n",
      "INFO:root:225 residues in this chain.\n",
      "INFO:root:Finished prediction in 32.35 seconds.\n",
      "INFO:root:Saving prediction to proteins/omegafold_predicted_pdb_files/8HI2:A.pdb\n",
      "INFO:root:Saved\n",
      "INFO:root:Predicting 2th chain in proteins/inferred_fasta_files/8HI2.fasta\n",
      "INFO:root:237 residues in this chain.\n",
      "INFO:root:Finished prediction in 36.50 seconds.\n",
      "INFO:root:Saving prediction to proteins/omegafold_predicted_pdb_files/8HI2:B.pdb\n",
      "INFO:root:Saved\n",
      "INFO:root:Predicting 3th chain in proteins/inferred_fasta_files/8HI2.fasta\n",
      "INFO:root:239 residues in this chain.\n",
      "INFO:root:Finished prediction in 37.18 seconds.\n",
      "INFO:root:Saving prediction to proteins/omegafold_predicted_pdb_files/8HI2:C.pdb\n",
      "INFO:root:Saved\n",
      "INFO:root:Done!\n"
     ]
    }
   ],
   "source": [
    "import os, sys, re, torch, requests, json, Bio\n",
    "import pandas as pd\n",
    "\n",
    "device = 'cuda' if torch.cuda.is_available() else 'cpu'\n",
    "!python OmegaFold/main.py --device={device} \"proteins/inferred_fasta_files/5SSZ.fasta\" \"proteins/omegafold_predicted_pdb_files\"\n",
    "!python OmegaFold/main.py --device={device} \"proteins/inferred_fasta_files/8HI2.fasta\" \"proteins/omegafold_predicted_pdb_files\""
   ]
  },
  {
   "cell_type": "code",
   "execution_count": 51,
   "id": "4ef19e80-be72-47f6-acf6-59d50b93d7b3",
   "metadata": {},
   "outputs": [],
   "source": [
    "from tmtools import tm_align\n",
    "from prody import parsePDB, AtomGroup\n",
    "from Bio.SCOP.Raf import protein_letters_3to1\n",
    "from numpy import array\n",
    "from typing import List, Dict, Optional, Set, Tuple"
   ]
  },
  {
   "cell_type": "code",
   "execution_count": 54,
   "id": "24850491-03a0-48a1-a92c-45d5dfcebcf9",
   "metadata": {},
   "outputs": [
    {
     "name": "stdout",
     "output_type": "stream",
     "text": [
      "5SSZ:A 0.9763108724463694\n",
      "8HI2:A 0.7655109186150614\n",
      "8HI2:B 0.7908140832921055\n",
      "8HI2:C 0.7199127587354959\n"
     ]
    }
   ],
   "source": [
    "def parse_mask_file(mask_path: str, chain_id: str) -> Optional[str]:\n",
    "    with open(mask_path, \"r\") as file:\n",
    "        output_next_line = False\n",
    "        for line in file:\n",
    "            if line.startswith(\">\") and chain_id in line:\n",
    "                output_next_line = True\n",
    "            elif output_next_line:\n",
    "                return line.strip()\n",
    "    return None\n",
    "\n",
    "\n",
    "def get_coords_and_sequence_with_mask(pdb_path: str, chain_letter: str, mask: str):\n",
    "    chain = parsePDB(pdb_path, chain = chain_letter, subset = 'calpha')\n",
    "    coords, sequence = [], []\n",
    "    for i, atom in enumerate(chain):\n",
    "        if mask[i] == \"1\":\n",
    "            coords.append(atom.getCoords())\n",
    "            sequence.append(protein_letters_3to1[atom.getResname()])\n",
    "    return array(coords), \"\".join(sequence)\n",
    "\n",
    "\n",
    "def get_coords_and_sequence_without_mask(pdb_path: str, chain_letter: str):\n",
    "    chain = parsePDB(pdb_path, chain = chain_letter, subset = 'calpha')\n",
    "    return chain.getCoords(), chain.getSequence()\n",
    "\n",
    "\n",
    "def get_coords_and_sequence(pdb_path: str, chain_id = \"x:A\", mask: Optional[str] = None):\n",
    "    if mask is None:\n",
    "        return get_coords_and_sequence_without_mask(pdb_path, chain_id.split(\":\")[1])\n",
    "    return get_coords_and_sequence_with_mask(pdb_path, chain_id.split(\":\")[1], mask)\n",
    "\n",
    "\n",
    "def compute_tm_score(chain_id: str, original_pdb_path: str, predicted_pdb_path: str, mask_path: str):\n",
    "    mask = parse_mask_file(mask_path, chain_id)\n",
    "    original_coords, original_sequence = get_coords_and_sequence(original_pdb_path, chain_id = chain_id)\n",
    "    predicted_coords, predicted_sequence = get_coords_and_sequence(predicted_pdb_path, mask = mask)\n",
    "    assert(len(original_sequence) == len(predicted_sequence))\n",
    "    assert(original_sequence == predicted_sequence)\n",
    "    result = tm_align(original_coords, predicted_coords, original_sequence, predicted_sequence)\n",
    "    return result.tm_norm_chain1\n",
    "\n",
    "\n",
    "print(\"5SSZ:A\", compute_tm_score(\"5SSZ:A\", \"proteins/original_pdb_files/5SSZ.pdb\", \"proteins/omegafold_predicted_pdb_files/5SSZ:A.pdb\", \"proteins/mask_files/5SSZ_mask.fasta\"))\n",
    "print(\"8HI2:A\", compute_tm_score(\"8HI2:A\", \"proteins/original_pdb_files/8HI2.pdb\", \"proteins/omegafold_predicted_pdb_files/8HI2:A.pdb\", \"proteins/mask_files/8HI2_mask.fasta\"))\n",
    "print(\"8HI2:B\", compute_tm_score(\"8HI2:B\", \"proteins/original_pdb_files/8HI2.pdb\", \"proteins/omegafold_predicted_pdb_files/8HI2:B.pdb\", \"proteins/mask_files/8HI2_mask.fasta\"))\n",
    "print(\"8HI2:C\", compute_tm_score(\"8HI2:C\", \"proteins/original_pdb_files/8HI2.pdb\", \"proteins/omegafold_predicted_pdb_files/8HI2:C.pdb\", \"proteins/mask_files/8HI2_mask.fasta\"))\n",
    "\n"
   ]
  },
  {
   "cell_type": "markdown",
   "id": "282614ae-42a5-4742-8554-0500fec46b3c",
   "metadata": {},
   "source": [
    "## RMSD"
   ]
  },
  {
   "cell_type": "code",
   "execution_count": 53,
   "id": "e1d12fcb-9ccd-44b5-9dae-46d9266fbe41",
   "metadata": {},
   "outputs": [
    {
     "name": "stdout",
     "output_type": "stream",
     "text": [
      "1.1466584479264936\n",
      "8.176420097982414\n",
      "5.333953886598329\n",
      "16.486893944433685\n",
      "1.146658447926571\n",
      "8.176420097982414\n",
      "5.333953886598332\n",
      "16.48689394443369\n"
     ]
    }
   ],
   "source": [
    "from Bio.SVDSuperimposer import SVDSuperimposer\n",
    "from Bio.PDB.QCPSuperimposer import QCPSuperimposer\n",
    "\n",
    "def compute_RMSD(chain_id: str, original_pdb_path: str, predicted_pdb_path: str, mask_path: str) -> float:\n",
    "    mask = parse_mask_file(mask_path, chain_id)\n",
    "    original_coords, _ = get_coords_and_sequence(original_pdb_path, chain_id = chain_id)\n",
    "    predicted_coords, _ = get_coords_and_sequence(predicted_pdb_path, mask = mask)\n",
    "    sup = SVDSuperimposer()\n",
    "    sup.set(original_coords, predicted_coords)\n",
    "    sup.run()\n",
    "    return sup.get_rms()\n",
    "\n",
    "def compute_RMSD2(chain_id: str, original_pdb_path: str, predicted_pdb_path: str, mask_path: str) -> float:\n",
    "    mask = parse_mask_file(mask_path, chain_id)\n",
    "    original_coords, _ = get_coords_and_sequence(original_pdb_path, chain_id = chain_id)\n",
    "    predicted_coords, _ = get_coords_and_sequence(predicted_pdb_path, mask = mask)\n",
    "    sup = QCPSuperimposer()\n",
    "    sup.set(original_coords, predicted_coords)\n",
    "    sup.run()\n",
    "    return sup.get_rms()\n",
    "\n",
    "\n",
    "print(compute_RMSD(\"5SSZ:A\", \"proteins/original_pdb_files/5SSZ.pdb\", \"proteins/omegafold_predicted_pdb_files/5SSZ:A.pdb\", \"proteins/mask_files/5SSZ_mask.fasta\"))\n",
    "print(compute_RMSD(\"8HI2:A\", \"proteins/original_pdb_files/8HI2.pdb\", \"proteins/omegafold_predicted_pdb_files/8HI2:A.pdb\", \"proteins/mask_files/8HI2_mask.fasta\"))\n",
    "print(compute_RMSD(\"8HI2:B\", \"proteins/original_pdb_files/8HI2.pdb\", \"proteins/omegafold_predicted_pdb_files/8HI2:B.pdb\", \"proteins/mask_files/8HI2_mask.fasta\"))\n",
    "print(compute_RMSD(\"8HI2:C\", \"proteins/original_pdb_files/8HI2.pdb\", \"proteins/omegafold_predicted_pdb_files/8HI2:C.pdb\", \"proteins/mask_files/8HI2_mask.fasta\"))\n",
    "\n",
    "print(compute_RMSD2(\"5SSZ:A\", \"proteins/original_pdb_files/5SSZ.pdb\", \"proteins/omegafold_predicted_pdb_files/5SSZ:A.pdb\", \"proteins/mask_files/5SSZ_mask.fasta\"))\n",
    "print(compute_RMSD2(\"8HI2:A\", \"proteins/original_pdb_files/8HI2.pdb\", \"proteins/omegafold_predicted_pdb_files/8HI2:A.pdb\", \"proteins/mask_files/8HI2_mask.fasta\"))\n",
    "print(compute_RMSD2(\"8HI2:B\", \"proteins/original_pdb_files/8HI2.pdb\", \"proteins/omegafold_predicted_pdb_files/8HI2:B.pdb\", \"proteins/mask_files/8HI2_mask.fasta\"))\n",
    "print(compute_RMSD2(\"8HI2:C\", \"proteins/original_pdb_files/8HI2.pdb\", \"proteins/omegafold_predicted_pdb_files/8HI2:C.pdb\", \"proteins/mask_files/8HI2_mask.fasta\"))\n",
    "\n",
    "\n",
    "\n",
    "\n",
    "\n"
   ]
  },
  {
   "cell_type": "code",
   "execution_count": null,
   "id": "eaaeddd5-70e8-4a6d-befb-bd76ab457915",
   "metadata": {},
   "outputs": [],
   "source": []
  }
 ],
 "metadata": {
  "kernelspec": {
   "display_name": "Python [conda env:omegafold]",
   "language": "python",
   "name": "conda-env-omegafold-py"
  },
  "language_info": {
   "codemirror_mode": {
    "name": "ipython",
    "version": 3
   },
   "file_extension": ".py",
   "mimetype": "text/x-python",
   "name": "python",
   "nbconvert_exporter": "python",
   "pygments_lexer": "ipython3",
   "version": "3.11.0"
  }
 },
 "nbformat": 4,
 "nbformat_minor": 5
}
