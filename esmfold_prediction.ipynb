{
 "cells": [
  {
   "cell_type": "markdown",
   "id": "162d84ec-01ce-489e-8431-c213bcc0731e",
   "metadata": {},
   "source": [
    "# ESMFold structure prediction"
   ]
  },
  {
   "cell_type": "code",
   "execution_count": 1,
   "id": "cd5447eb-ce29-4b2d-b9a1-1ac011855e6c",
   "metadata": {},
   "outputs": [],
   "source": [
    "import pandas as pd\n",
    "import requests, urllib3, os\n",
    "from time import sleep\n",
    "urllib3.disable_warnings(urllib3.exceptions.InsecureRequestWarning)"
   ]
  },
  {
   "cell_type": "markdown",
   "id": "f2cbd5f5-8eaf-4268-af8b-90e73b23603c",
   "metadata": {},
   "source": [
    "## Load `chains` dataframe from .csv file"
   ]
  },
  {
   "cell_type": "code",
   "execution_count": 2,
   "id": "24a0b535-fa4c-4b96-beba-7e48e957b515",
   "metadata": {},
   "outputs": [
    {
     "data": {
      "text/html": [
       "<div>\n",
       "<style scoped>\n",
       "    .dataframe tbody tr th:only-of-type {\n",
       "        vertical-align: middle;\n",
       "    }\n",
       "\n",
       "    .dataframe tbody tr th {\n",
       "        vertical-align: top;\n",
       "    }\n",
       "\n",
       "    .dataframe thead th {\n",
       "        text-align: right;\n",
       "    }\n",
       "</style>\n",
       "<table border=\"1\" class=\"dataframe\">\n",
       "  <thead>\n",
       "    <tr style=\"text-align: right;\">\n",
       "      <th></th>\n",
       "      <th>pdb_id</th>\n",
       "      <th>label</th>\n",
       "      <th>chain_id</th>\n",
       "    </tr>\n",
       "  </thead>\n",
       "  <tbody>\n",
       "    <tr>\n",
       "      <th>0</th>\n",
       "      <td>8P0E</td>\n",
       "      <td>monomer</td>\n",
       "      <td>8P0E:A</td>\n",
       "    </tr>\n",
       "    <tr>\n",
       "      <th>1</th>\n",
       "      <td>8PX8</td>\n",
       "      <td>monomer</td>\n",
       "      <td>8PX8:A</td>\n",
       "    </tr>\n",
       "    <tr>\n",
       "      <th>2</th>\n",
       "      <td>8B2E</td>\n",
       "      <td>monomer</td>\n",
       "      <td>8B2E:A</td>\n",
       "    </tr>\n",
       "    <tr>\n",
       "      <th>3</th>\n",
       "      <td>8HOE</td>\n",
       "      <td>monomer</td>\n",
       "      <td>8HOE:A</td>\n",
       "    </tr>\n",
       "    <tr>\n",
       "      <th>4</th>\n",
       "      <td>8TCE</td>\n",
       "      <td>monomer</td>\n",
       "      <td>8TCE:A</td>\n",
       "    </tr>\n",
       "  </tbody>\n",
       "</table>\n",
       "</div>"
      ],
      "text/plain": [
       "  pdb_id    label chain_id\n",
       "0   8P0E  monomer   8P0E:A\n",
       "1   8PX8  monomer   8PX8:A\n",
       "2   8B2E  monomer   8B2E:A\n",
       "3   8HOE  monomer   8HOE:A\n",
       "4   8TCE  monomer   8TCE:A"
      ]
     },
     "execution_count": 2,
     "metadata": {},
     "output_type": "execute_result"
    }
   ],
   "source": [
    "PROTEIN_DIRECTORY = \"data/proteins\"\n",
    "\n",
    "chains = pd.read_csv(\"data/chains.csv\")\n",
    "chains = chains[:5]\n",
    "chains"
   ]
  },
  {
   "cell_type": "markdown",
   "id": "e2c63d1d-e648-4113-b2c8-605ba971c967",
   "metadata": {},
   "source": [
    "## Predicting the structures"
   ]
  },
  {
   "cell_type": "markdown",
   "id": "1c1cbce5-aad3-4e68-bb06-4896aa2161ea",
   "metadata": {},
   "source": [
    "Predict the structure of all the chains in the chains dataframe:"
   ]
  },
  {
   "cell_type": "code",
   "execution_count": 3,
   "id": "38fba4fb-377b-4d33-8780-45d269af3324",
   "metadata": {},
   "outputs": [],
   "source": [
    "def get_sequence(fasta_path: str) -> str:\n",
    "    \"\"\"\n",
    "    This function obtains a sequence from given fasta file.\n",
    "    \n",
    "    Parameters:\n",
    "        fasta_path (str): path to a fasta file containing exactly one\n",
    "                          sequence on the second line of the file\n",
    "    \n",
    "    Returns:\n",
    "        string of letters without new line at the end\n",
    "    \"\"\"\n",
    "    with open(fasta_path, \"r\") as file:\n",
    "        lines = file.readlines()\n",
    "\n",
    "    assert(len(lines) == 2)\n",
    "    return lines[1].strip()\n",
    "\n",
    "\n",
    "def print_status() -> None:\n",
    "    global NUMBER_OF_PREDICTED_CHAINS\n",
    "    NUMBER_OF_PREDICTED_CHAINS += 1\n",
    "    if NUMBER_OF_PREDICTED_CHAINS % 50 == 0 or NUMBER_OF_PREDICTED_CHAINS == 1465:\n",
    "        print(f\"Predicted the structure of {NUMBER_OF_PREDICTED_CHAINS} chains.\")\n",
    "    sleep(10)\n",
    "\n",
    "\n",
    "def esmfold_predict(pdb_id: str, chain_id: str, protein_directory: str) -> str:\n",
    "    \"\"\"\n",
    "    This function obtains a prediction of structure using ESMFold API\n",
    "    and saves it into a pdb file.\n",
    "    \n",
    "    Parameters:\n",
    "        pdb_id (str): PDB ID of the protein\n",
    "        chain_id (str): id of the chain\n",
    "        protein_directory (str): path to the directory containing all information about proteins\n",
    "\n",
    "    Returns:\n",
    "        relative path to the pdb file containing the prediction\n",
    "    \"\"\"\n",
    "    sequence = get_sequence(f\"{protein_directory}/{pdb_id}/{chain_id}.fasta\")\n",
    "    prediction = requests.post(url = \"https://api.esmatlas.com/foldSequence/v1/pdb/\", data = sequence, verify = False)\n",
    "    print_status()\n",
    "    if prediction.status_code != 200:\n",
    "        print(f\"Prediction of structure {chain_id} was unsuccessful - status code of the request: {prediction.status_code}\")\n",
    "        return None\n",
    "    prediction_path = f\"{protein_directory}/{pdb_id}/esmfold/{chain_id}.pdb\"\n",
    "    if not os.path.exists(f\"{protein_directory}/{pdb_id}/esmfold\"):\n",
    "        os.makedirs(f\"{protein_directory}/{pdb_id}/esmfold\")\n",
    "    with open(prediction_path, \"w\") as f:\n",
    "        f.write(prediction.text)\n",
    "    return prediction_path\n",
    "\n",
    "\n",
    "NUMBER_OF_PREDICTED_CHAINS = 0\n",
    "\n",
    "chains[\"EF_prediction_path\"] = chains.apply(\n",
    "    lambda row: esmfold_predict(row[\"pdb_id\"], row[\"chain_id\"], PROTEIN_DIRECTORY),\n",
    "    axis = 1\n",
    ")"
   ]
  },
  {
   "cell_type": "code",
   "execution_count": 4,
   "id": "443e78b2-04ff-470c-8ffc-c0764426a244",
   "metadata": {},
   "outputs": [
    {
     "data": {
      "text/html": [
       "<div>\n",
       "<style scoped>\n",
       "    .dataframe tbody tr th:only-of-type {\n",
       "        vertical-align: middle;\n",
       "    }\n",
       "\n",
       "    .dataframe tbody tr th {\n",
       "        vertical-align: top;\n",
       "    }\n",
       "\n",
       "    .dataframe thead th {\n",
       "        text-align: right;\n",
       "    }\n",
       "</style>\n",
       "<table border=\"1\" class=\"dataframe\">\n",
       "  <thead>\n",
       "    <tr style=\"text-align: right;\">\n",
       "      <th></th>\n",
       "      <th>pdb_id</th>\n",
       "      <th>label</th>\n",
       "      <th>chain_id</th>\n",
       "      <th>EF_prediction_path</th>\n",
       "    </tr>\n",
       "  </thead>\n",
       "  <tbody>\n",
       "    <tr>\n",
       "      <th>0</th>\n",
       "      <td>8P0E</td>\n",
       "      <td>monomer</td>\n",
       "      <td>8P0E:A</td>\n",
       "      <td>data/proteins/8P0E/esmfold/8P0E:A.pdb</td>\n",
       "    </tr>\n",
       "    <tr>\n",
       "      <th>1</th>\n",
       "      <td>8PX8</td>\n",
       "      <td>monomer</td>\n",
       "      <td>8PX8:A</td>\n",
       "      <td>data/proteins/8PX8/esmfold/8PX8:A.pdb</td>\n",
       "    </tr>\n",
       "    <tr>\n",
       "      <th>2</th>\n",
       "      <td>8B2E</td>\n",
       "      <td>monomer</td>\n",
       "      <td>8B2E:A</td>\n",
       "      <td>data/proteins/8B2E/esmfold/8B2E:A.pdb</td>\n",
       "    </tr>\n",
       "    <tr>\n",
       "      <th>3</th>\n",
       "      <td>8HOE</td>\n",
       "      <td>monomer</td>\n",
       "      <td>8HOE:A</td>\n",
       "      <td>data/proteins/8HOE/esmfold/8HOE:A.pdb</td>\n",
       "    </tr>\n",
       "    <tr>\n",
       "      <th>4</th>\n",
       "      <td>8TCE</td>\n",
       "      <td>monomer</td>\n",
       "      <td>8TCE:A</td>\n",
       "      <td>data/proteins/8TCE/esmfold/8TCE:A.pdb</td>\n",
       "    </tr>\n",
       "  </tbody>\n",
       "</table>\n",
       "</div>"
      ],
      "text/plain": [
       "  pdb_id    label chain_id                     EF_prediction_path\n",
       "0   8P0E  monomer   8P0E:A  data/proteins/8P0E/esmfold/8P0E:A.pdb\n",
       "1   8PX8  monomer   8PX8:A  data/proteins/8PX8/esmfold/8PX8:A.pdb\n",
       "2   8B2E  monomer   8B2E:A  data/proteins/8B2E/esmfold/8B2E:A.pdb\n",
       "3   8HOE  monomer   8HOE:A  data/proteins/8HOE/esmfold/8HOE:A.pdb\n",
       "4   8TCE  monomer   8TCE:A  data/proteins/8TCE/esmfold/8TCE:A.pdb"
      ]
     },
     "execution_count": 4,
     "metadata": {},
     "output_type": "execute_result"
    }
   ],
   "source": [
    "chains"
   ]
  },
  {
   "cell_type": "markdown",
   "id": "d35140c4-2f21-4f0d-b1be-29d645cfded4",
   "metadata": {},
   "source": [
    "## Save `chain` dataframe as .csv file"
   ]
  },
  {
   "cell_type": "code",
   "execution_count": 5,
   "id": "0e574f7d-8662-4452-9ff5-8b21cbb1a8a6",
   "metadata": {},
   "outputs": [],
   "source": [
    "chains.to_csv(\"proteins/chains_esmfold.csv\", sep = \",\", index = False)"
   ]
  }
 ],
 "metadata": {
  "kernelspec": {
   "display_name": "Python [conda env:esmfold]",
   "language": "python",
   "name": "conda-env-esmfold-py"
  },
  "language_info": {
   "codemirror_mode": {
    "name": "ipython",
    "version": 3
   },
   "file_extension": ".py",
   "mimetype": "text/x-python",
   "name": "python",
   "nbconvert_exporter": "python",
   "pygments_lexer": "ipython3",
   "version": "3.11.5"
  }
 },
 "nbformat": 4,
 "nbformat_minor": 5
}
